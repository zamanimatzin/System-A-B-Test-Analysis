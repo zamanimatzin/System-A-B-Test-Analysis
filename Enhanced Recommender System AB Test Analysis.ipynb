{
 "cells": [
  {
   "cell_type": "markdown",
   "id": "d51d1395",
   "metadata": {},
   "source": [
    "# Project Description\n",
    "\n",
    "You've received an analytical task from an international online store. Your predecessor failed to complete it: they launched an A/B test and then quit (to start a watermelon farm in Brazil). They left only the technical specifications and the test results."
   ]
  },
  {
   "cell_type": "markdown",
   "id": "dac8917f",
   "metadata": {},
   "source": [
    "# Technical description\n",
    "\n",
    "- Test name: recommender_system_test\n",
    "- Groups: А (control), B (new payment funnel)\n",
    "- Launch date: 2020-12-07\n",
    "- The date when they stopped taking up new users: 2020-12-21\n",
    "- End date: 2021-01-01\n",
    "- Audience: 15% of the new users from the EU region\n",
    "- Purpose of the test: testing changes related to the introduction of an improved recommendation system\n",
    "- Expected result: within 14 days of signing up, users will show better conversion into product page views (the product_page event), product card views( product_card ) and purchases ( purchase ). At each of the stage of the funnel product_page → product_card → purchase , there will be at least a 10% increase.\n",
    "- Expected number of test participants: 6000"
   ]
  },
  {
   "cell_type": "code",
   "execution_count": 1,
   "id": "f390bd16",
   "metadata": {
    "ExecuteTime": {
     "end_time": "2023-06-04T17:11:57.118365Z",
     "start_time": "2023-06-04T17:11:56.083548Z"
    }
   },
   "outputs": [],
   "source": [
    "import pandas as pd\n",
    "import seaborn as sns\n",
    "import matplotlib.pyplot as plt\n",
    "import numpy as np\n",
    "import re\n",
    "import warnings\n",
    "warnings.filterwarnings('ignore')\n",
    "from datetime import datetime, timedelta\n",
    "import datetime as dt\n",
    "from scipy.stats import norm\n",
    "import scipy.stats as stats"
   ]
  },
  {
   "cell_type": "code",
   "execution_count": 2,
   "id": "c8b09250",
   "metadata": {
    "ExecuteTime": {
     "end_time": "2023-06-04T17:11:57.430647Z",
     "start_time": "2023-06-04T17:11:57.119365Z"
    }
   },
   "outputs": [],
   "source": [
    "marketing = pd.read_csv('/datasets/ab_project_marketing_events_us.csv',sep=\",\")\n",
    "users_event = pd.read_csv('/datasets/final_ab_events_upd_us.csv',sep=\",\")\n",
    "users = pd.read_csv('/datasets/final_ab_new_users_upd_us.csv',sep=\",\")\n",
    "participants = pd.read_csv('/datasets/final_ab_participants_upd_us.csv',sep=\",\")"
   ]
  },
  {
   "cell_type": "markdown",
   "id": "6da25883",
   "metadata": {
    "ExecuteTime": {
     "end_time": "2023-06-01T02:02:29.635630Z",
     "start_time": "2023-06-01T02:02:29.618062Z"
    }
   },
   "source": [
    "# Data Preprocessing"
   ]
  },
  {
   "cell_type": "markdown",
   "id": "4e16cf46",
   "metadata": {},
   "source": [
    "## Marketing"
   ]
  },
  {
   "cell_type": "code",
   "execution_count": 3,
   "id": "39d03f48",
   "metadata": {
    "ExecuteTime": {
     "end_time": "2023-06-04T17:11:57.444586Z",
     "start_time": "2023-06-04T17:11:57.430647Z"
    }
   },
   "outputs": [
    {
     "data": {
      "text/html": [
       "<div>\n",
       "<style scoped>\n",
       "    .dataframe tbody tr th:only-of-type {\n",
       "        vertical-align: middle;\n",
       "    }\n",
       "\n",
       "    .dataframe tbody tr th {\n",
       "        vertical-align: top;\n",
       "    }\n",
       "\n",
       "    .dataframe thead th {\n",
       "        text-align: right;\n",
       "    }\n",
       "</style>\n",
       "<table border=\"1\" class=\"dataframe\">\n",
       "  <thead>\n",
       "    <tr style=\"text-align: right;\">\n",
       "      <th></th>\n",
       "      <th>name</th>\n",
       "      <th>regions</th>\n",
       "      <th>start_dt</th>\n",
       "      <th>finish_dt</th>\n",
       "    </tr>\n",
       "  </thead>\n",
       "  <tbody>\n",
       "    <tr>\n",
       "      <th>0</th>\n",
       "      <td>Christmas&amp;New Year Promo</td>\n",
       "      <td>EU, N.America</td>\n",
       "      <td>2020-12-25</td>\n",
       "      <td>2021-01-03</td>\n",
       "    </tr>\n",
       "    <tr>\n",
       "      <th>1</th>\n",
       "      <td>St. Valentine's Day Giveaway</td>\n",
       "      <td>EU, CIS, APAC, N.America</td>\n",
       "      <td>2020-02-14</td>\n",
       "      <td>2020-02-16</td>\n",
       "    </tr>\n",
       "    <tr>\n",
       "      <th>2</th>\n",
       "      <td>St. Patric's Day Promo</td>\n",
       "      <td>EU, N.America</td>\n",
       "      <td>2020-03-17</td>\n",
       "      <td>2020-03-19</td>\n",
       "    </tr>\n",
       "    <tr>\n",
       "      <th>3</th>\n",
       "      <td>Easter Promo</td>\n",
       "      <td>EU, CIS, APAC, N.America</td>\n",
       "      <td>2020-04-12</td>\n",
       "      <td>2020-04-19</td>\n",
       "    </tr>\n",
       "    <tr>\n",
       "      <th>4</th>\n",
       "      <td>4th of July Promo</td>\n",
       "      <td>N.America</td>\n",
       "      <td>2020-07-04</td>\n",
       "      <td>2020-07-11</td>\n",
       "    </tr>\n",
       "    <tr>\n",
       "      <th>5</th>\n",
       "      <td>Black Friday Ads Campaign</td>\n",
       "      <td>EU, CIS, APAC, N.America</td>\n",
       "      <td>2020-11-26</td>\n",
       "      <td>2020-12-01</td>\n",
       "    </tr>\n",
       "    <tr>\n",
       "      <th>6</th>\n",
       "      <td>Chinese New Year Promo</td>\n",
       "      <td>APAC</td>\n",
       "      <td>2020-01-25</td>\n",
       "      <td>2020-02-07</td>\n",
       "    </tr>\n",
       "    <tr>\n",
       "      <th>7</th>\n",
       "      <td>Labor day (May 1st) Ads Campaign</td>\n",
       "      <td>EU, CIS, APAC</td>\n",
       "      <td>2020-05-01</td>\n",
       "      <td>2020-05-03</td>\n",
       "    </tr>\n",
       "    <tr>\n",
       "      <th>8</th>\n",
       "      <td>International Women's Day Promo</td>\n",
       "      <td>EU, CIS, APAC</td>\n",
       "      <td>2020-03-08</td>\n",
       "      <td>2020-03-10</td>\n",
       "    </tr>\n",
       "    <tr>\n",
       "      <th>9</th>\n",
       "      <td>Victory Day CIS (May 9th) Event</td>\n",
       "      <td>CIS</td>\n",
       "      <td>2020-05-09</td>\n",
       "      <td>2020-05-11</td>\n",
       "    </tr>\n",
       "    <tr>\n",
       "      <th>10</th>\n",
       "      <td>CIS New Year Gift Lottery</td>\n",
       "      <td>CIS</td>\n",
       "      <td>2020-12-30</td>\n",
       "      <td>2021-01-07</td>\n",
       "    </tr>\n",
       "    <tr>\n",
       "      <th>11</th>\n",
       "      <td>Dragon Boat Festival Giveaway</td>\n",
       "      <td>APAC</td>\n",
       "      <td>2020-06-25</td>\n",
       "      <td>2020-07-01</td>\n",
       "    </tr>\n",
       "    <tr>\n",
       "      <th>12</th>\n",
       "      <td>Single's Day Gift Promo</td>\n",
       "      <td>APAC</td>\n",
       "      <td>2020-11-11</td>\n",
       "      <td>2020-11-12</td>\n",
       "    </tr>\n",
       "    <tr>\n",
       "      <th>13</th>\n",
       "      <td>Chinese Moon Festival</td>\n",
       "      <td>APAC</td>\n",
       "      <td>2020-10-01</td>\n",
       "      <td>2020-10-07</td>\n",
       "    </tr>\n",
       "  </tbody>\n",
       "</table>\n",
       "</div>"
      ],
      "text/plain": [
       "                                name                   regions    start_dt  \\\n",
       "0           Christmas&New Year Promo             EU, N.America  2020-12-25   \n",
       "1       St. Valentine's Day Giveaway  EU, CIS, APAC, N.America  2020-02-14   \n",
       "2             St. Patric's Day Promo             EU, N.America  2020-03-17   \n",
       "3                       Easter Promo  EU, CIS, APAC, N.America  2020-04-12   \n",
       "4                  4th of July Promo                 N.America  2020-07-04   \n",
       "5          Black Friday Ads Campaign  EU, CIS, APAC, N.America  2020-11-26   \n",
       "6             Chinese New Year Promo                      APAC  2020-01-25   \n",
       "7   Labor day (May 1st) Ads Campaign             EU, CIS, APAC  2020-05-01   \n",
       "8    International Women's Day Promo             EU, CIS, APAC  2020-03-08   \n",
       "9    Victory Day CIS (May 9th) Event                       CIS  2020-05-09   \n",
       "10         CIS New Year Gift Lottery                       CIS  2020-12-30   \n",
       "11     Dragon Boat Festival Giveaway                      APAC  2020-06-25   \n",
       "12           Single's Day Gift Promo                      APAC  2020-11-11   \n",
       "13             Chinese Moon Festival                      APAC  2020-10-01   \n",
       "\n",
       "     finish_dt  \n",
       "0   2021-01-03  \n",
       "1   2020-02-16  \n",
       "2   2020-03-19  \n",
       "3   2020-04-19  \n",
       "4   2020-07-11  \n",
       "5   2020-12-01  \n",
       "6   2020-02-07  \n",
       "7   2020-05-03  \n",
       "8   2020-03-10  \n",
       "9   2020-05-11  \n",
       "10  2021-01-07  \n",
       "11  2020-07-01  \n",
       "12  2020-11-12  \n",
       "13  2020-10-07  "
      ]
     },
     "execution_count": 3,
     "metadata": {},
     "output_type": "execute_result"
    }
   ],
   "source": [
    "marketing"
   ]
  },
  {
   "cell_type": "code",
   "execution_count": 4,
   "id": "e9a3c65e",
   "metadata": {
    "ExecuteTime": {
     "end_time": "2023-06-04T17:11:57.460174Z",
     "start_time": "2023-06-04T17:11:57.444586Z"
    }
   },
   "outputs": [
    {
     "name": "stdout",
     "output_type": "stream",
     "text": [
      "<class 'pandas.core.frame.DataFrame'>\n",
      "RangeIndex: 14 entries, 0 to 13\n",
      "Data columns (total 4 columns):\n",
      " #   Column     Non-Null Count  Dtype \n",
      "---  ------     --------------  ----- \n",
      " 0   name       14 non-null     object\n",
      " 1   regions    14 non-null     object\n",
      " 2   start_dt   14 non-null     object\n",
      " 3   finish_dt  14 non-null     object\n",
      "dtypes: object(4)\n",
      "memory usage: 576.0+ bytes\n"
     ]
    }
   ],
   "source": [
    "marketing.info()"
   ]
  },
  {
   "cell_type": "code",
   "execution_count": 5,
   "id": "71ea2980",
   "metadata": {
    "ExecuteTime": {
     "end_time": "2023-06-04T17:11:57.469528Z",
     "start_time": "2023-06-04T17:11:57.460174Z"
    }
   },
   "outputs": [
    {
     "data": {
      "text/plain": [
       "name         0\n",
       "regions      0\n",
       "start_dt     0\n",
       "finish_dt    0\n",
       "dtype: int64"
      ]
     },
     "execution_count": 5,
     "metadata": {},
     "output_type": "execute_result"
    }
   ],
   "source": [
    "marketing.isna().sum()"
   ]
  },
  {
   "cell_type": "code",
   "execution_count": 6,
   "id": "5c580f57",
   "metadata": {
    "ExecuteTime": {
     "end_time": "2023-06-04T17:11:57.474915Z",
     "start_time": "2023-06-04T17:11:57.469528Z"
    }
   },
   "outputs": [
    {
     "data": {
      "text/plain": [
       "0"
      ]
     },
     "execution_count": 6,
     "metadata": {},
     "output_type": "execute_result"
    }
   ],
   "source": [
    "marketing.duplicated().sum()"
   ]
  },
  {
   "cell_type": "code",
   "execution_count": 7,
   "id": "a2db6194",
   "metadata": {
    "ExecuteTime": {
     "end_time": "2023-06-04T17:11:57.487804Z",
     "start_time": "2023-06-04T17:11:57.474915Z"
    }
   },
   "outputs": [
    {
     "name": "stdout",
     "output_type": "stream",
     "text": [
      "<class 'pandas.core.frame.DataFrame'>\n",
      "RangeIndex: 14 entries, 0 to 13\n",
      "Data columns (total 4 columns):\n",
      " #   Column     Non-Null Count  Dtype         \n",
      "---  ------     --------------  -----         \n",
      " 0   name       14 non-null     object        \n",
      " 1   regions    14 non-null     object        \n",
      " 2   start_dt   14 non-null     datetime64[ns]\n",
      " 3   finish_dt  14 non-null     datetime64[ns]\n",
      "dtypes: datetime64[ns](2), object(2)\n",
      "memory usage: 576.0+ bytes\n"
     ]
    }
   ],
   "source": [
    "marketing['start_dt'] = pd.to_datetime(marketing['start_dt'],format = '%Y-%m-%d')\n",
    "marketing['finish_dt'] = pd.to_datetime(marketing['finish_dt'],format = '%Y-%m-%d')\n",
    "marketing.info()"
   ]
  },
  {
   "cell_type": "markdown",
   "id": "8e00df13",
   "metadata": {},
   "source": [
    "## Events"
   ]
  },
  {
   "cell_type": "code",
   "execution_count": 8,
   "id": "4e346089",
   "metadata": {
    "ExecuteTime": {
     "end_time": "2023-06-04T17:11:57.503912Z",
     "start_time": "2023-06-04T17:11:57.487804Z"
    }
   },
   "outputs": [
    {
     "data": {
      "text/html": [
       "<div>\n",
       "<style scoped>\n",
       "    .dataframe tbody tr th:only-of-type {\n",
       "        vertical-align: middle;\n",
       "    }\n",
       "\n",
       "    .dataframe tbody tr th {\n",
       "        vertical-align: top;\n",
       "    }\n",
       "\n",
       "    .dataframe thead th {\n",
       "        text-align: right;\n",
       "    }\n",
       "</style>\n",
       "<table border=\"1\" class=\"dataframe\">\n",
       "  <thead>\n",
       "    <tr style=\"text-align: right;\">\n",
       "      <th></th>\n",
       "      <th>user_id</th>\n",
       "      <th>event_dt</th>\n",
       "      <th>event_name</th>\n",
       "      <th>details</th>\n",
       "    </tr>\n",
       "  </thead>\n",
       "  <tbody>\n",
       "    <tr>\n",
       "      <th>0</th>\n",
       "      <td>E1BDDCE0DAFA2679</td>\n",
       "      <td>2020-12-07 20:22:03</td>\n",
       "      <td>purchase</td>\n",
       "      <td>99.99</td>\n",
       "    </tr>\n",
       "    <tr>\n",
       "      <th>1</th>\n",
       "      <td>7B6452F081F49504</td>\n",
       "      <td>2020-12-07 09:22:53</td>\n",
       "      <td>purchase</td>\n",
       "      <td>9.99</td>\n",
       "    </tr>\n",
       "    <tr>\n",
       "      <th>2</th>\n",
       "      <td>9CD9F34546DF254C</td>\n",
       "      <td>2020-12-07 12:59:29</td>\n",
       "      <td>purchase</td>\n",
       "      <td>4.99</td>\n",
       "    </tr>\n",
       "    <tr>\n",
       "      <th>3</th>\n",
       "      <td>96F27A054B191457</td>\n",
       "      <td>2020-12-07 04:02:40</td>\n",
       "      <td>purchase</td>\n",
       "      <td>4.99</td>\n",
       "    </tr>\n",
       "    <tr>\n",
       "      <th>4</th>\n",
       "      <td>1FD7660FDF94CA1F</td>\n",
       "      <td>2020-12-07 10:15:09</td>\n",
       "      <td>purchase</td>\n",
       "      <td>4.99</td>\n",
       "    </tr>\n",
       "    <tr>\n",
       "      <th>...</th>\n",
       "      <td>...</td>\n",
       "      <td>...</td>\n",
       "      <td>...</td>\n",
       "      <td>...</td>\n",
       "    </tr>\n",
       "    <tr>\n",
       "      <th>423756</th>\n",
       "      <td>245E85F65C358E08</td>\n",
       "      <td>2020-12-30 19:35:55</td>\n",
       "      <td>login</td>\n",
       "      <td>NaN</td>\n",
       "    </tr>\n",
       "    <tr>\n",
       "      <th>423757</th>\n",
       "      <td>9385A108F5A0A7A7</td>\n",
       "      <td>2020-12-30 10:54:15</td>\n",
       "      <td>login</td>\n",
       "      <td>NaN</td>\n",
       "    </tr>\n",
       "    <tr>\n",
       "      <th>423758</th>\n",
       "      <td>DB650B7559AC6EAC</td>\n",
       "      <td>2020-12-30 10:59:09</td>\n",
       "      <td>login</td>\n",
       "      <td>NaN</td>\n",
       "    </tr>\n",
       "    <tr>\n",
       "      <th>423759</th>\n",
       "      <td>F80C9BDDEA02E53C</td>\n",
       "      <td>2020-12-30 09:53:39</td>\n",
       "      <td>login</td>\n",
       "      <td>NaN</td>\n",
       "    </tr>\n",
       "    <tr>\n",
       "      <th>423760</th>\n",
       "      <td>7AEC61159B672CC5</td>\n",
       "      <td>2020-12-30 11:36:13</td>\n",
       "      <td>login</td>\n",
       "      <td>NaN</td>\n",
       "    </tr>\n",
       "  </tbody>\n",
       "</table>\n",
       "<p>423761 rows × 4 columns</p>\n",
       "</div>"
      ],
      "text/plain": [
       "                 user_id             event_dt event_name  details\n",
       "0       E1BDDCE0DAFA2679  2020-12-07 20:22:03   purchase    99.99\n",
       "1       7B6452F081F49504  2020-12-07 09:22:53   purchase     9.99\n",
       "2       9CD9F34546DF254C  2020-12-07 12:59:29   purchase     4.99\n",
       "3       96F27A054B191457  2020-12-07 04:02:40   purchase     4.99\n",
       "4       1FD7660FDF94CA1F  2020-12-07 10:15:09   purchase     4.99\n",
       "...                  ...                  ...        ...      ...\n",
       "423756  245E85F65C358E08  2020-12-30 19:35:55      login      NaN\n",
       "423757  9385A108F5A0A7A7  2020-12-30 10:54:15      login      NaN\n",
       "423758  DB650B7559AC6EAC  2020-12-30 10:59:09      login      NaN\n",
       "423759  F80C9BDDEA02E53C  2020-12-30 09:53:39      login      NaN\n",
       "423760  7AEC61159B672CC5  2020-12-30 11:36:13      login      NaN\n",
       "\n",
       "[423761 rows x 4 columns]"
      ]
     },
     "execution_count": 8,
     "metadata": {},
     "output_type": "execute_result"
    }
   ],
   "source": [
    "users_event"
   ]
  },
  {
   "cell_type": "code",
   "execution_count": 9,
   "id": "055fbe23",
   "metadata": {
    "ExecuteTime": {
     "end_time": "2023-06-04T17:11:57.631465Z",
     "start_time": "2023-06-04T17:11:57.504913Z"
    }
   },
   "outputs": [
    {
     "name": "stdout",
     "output_type": "stream",
     "text": [
      "<class 'pandas.core.frame.DataFrame'>\n",
      "RangeIndex: 423761 entries, 0 to 423760\n",
      "Data columns (total 4 columns):\n",
      " #   Column      Non-Null Count   Dtype  \n",
      "---  ------      --------------   -----  \n",
      " 0   user_id     423761 non-null  object \n",
      " 1   event_dt    423761 non-null  object \n",
      " 2   event_name  423761 non-null  object \n",
      " 3   details     60314 non-null   float64\n",
      "dtypes: float64(1), object(3)\n",
      "memory usage: 12.9+ MB\n"
     ]
    }
   ],
   "source": [
    "users_event.info()"
   ]
  },
  {
   "cell_type": "code",
   "execution_count": 10,
   "id": "95719581",
   "metadata": {
    "ExecuteTime": {
     "end_time": "2023-06-04T17:11:57.753692Z",
     "start_time": "2023-06-04T17:11:57.633466Z"
    }
   },
   "outputs": [
    {
     "data": {
      "text/plain": [
       "user_id            0\n",
       "event_dt           0\n",
       "event_name         0\n",
       "details       363447\n",
       "dtype: int64"
      ]
     },
     "execution_count": 10,
     "metadata": {},
     "output_type": "execute_result"
    }
   ],
   "source": [
    "users_event.isna().sum()"
   ]
  },
  {
   "cell_type": "code",
   "execution_count": 11,
   "id": "908fa2fb",
   "metadata": {
    "ExecuteTime": {
     "end_time": "2023-06-04T17:11:57.887764Z",
     "start_time": "2023-06-04T17:11:57.754693Z"
    }
   },
   "outputs": [
    {
     "data": {
      "text/plain": [
       "0"
      ]
     },
     "execution_count": 11,
     "metadata": {},
     "output_type": "execute_result"
    }
   ],
   "source": [
    "users_event.duplicated().sum()"
   ]
  },
  {
   "cell_type": "code",
   "execution_count": 12,
   "id": "d249ba3e",
   "metadata": {
    "ExecuteTime": {
     "end_time": "2023-06-04T17:11:58.137239Z",
     "start_time": "2023-06-04T17:11:57.888721Z"
    }
   },
   "outputs": [
    {
     "name": "stdout",
     "output_type": "stream",
     "text": [
      "<class 'pandas.core.frame.DataFrame'>\n",
      "RangeIndex: 423761 entries, 0 to 423760\n",
      "Data columns (total 4 columns):\n",
      " #   Column      Non-Null Count   Dtype         \n",
      "---  ------      --------------   -----         \n",
      " 0   user_id     423761 non-null  object        \n",
      " 1   event_dt    423761 non-null  datetime64[ns]\n",
      " 2   event_name  423761 non-null  object        \n",
      " 3   details     60314 non-null   float64       \n",
      "dtypes: datetime64[ns](1), float64(1), object(2)\n",
      "memory usage: 12.9+ MB\n"
     ]
    }
   ],
   "source": [
    "users_event['event_dt'] = pd.to_datetime(users_event['event_dt'],format = '%Y-%m-%d %H:%M:%S')\n",
    "users_event.info()"
   ]
  },
  {
   "cell_type": "code",
   "execution_count": 13,
   "id": "aaddd684",
   "metadata": {
    "ExecuteTime": {
     "end_time": "2023-06-04T17:11:58.356681Z",
     "start_time": "2023-06-04T17:11:58.138239Z"
    }
   },
   "outputs": [
    {
     "data": {
      "text/html": [
       "<div>\n",
       "<style scoped>\n",
       "    .dataframe tbody tr th:only-of-type {\n",
       "        vertical-align: middle;\n",
       "    }\n",
       "\n",
       "    .dataframe tbody tr th {\n",
       "        vertical-align: top;\n",
       "    }\n",
       "\n",
       "    .dataframe thead th {\n",
       "        text-align: right;\n",
       "    }\n",
       "</style>\n",
       "<table border=\"1\" class=\"dataframe\">\n",
       "  <thead>\n",
       "    <tr style=\"text-align: right;\">\n",
       "      <th></th>\n",
       "      <th>user_id</th>\n",
       "      <th>event_dt</th>\n",
       "      <th>event_name</th>\n",
       "      <th>details</th>\n",
       "      <th>date</th>\n",
       "      <th>time</th>\n",
       "    </tr>\n",
       "  </thead>\n",
       "  <tbody>\n",
       "    <tr>\n",
       "      <th>0</th>\n",
       "      <td>E1BDDCE0DAFA2679</td>\n",
       "      <td>2020-12-07 20:22:03</td>\n",
       "      <td>purchase</td>\n",
       "      <td>99.99</td>\n",
       "      <td>2020-12-07</td>\n",
       "      <td>20:22:03</td>\n",
       "    </tr>\n",
       "    <tr>\n",
       "      <th>1</th>\n",
       "      <td>7B6452F081F49504</td>\n",
       "      <td>2020-12-07 09:22:53</td>\n",
       "      <td>purchase</td>\n",
       "      <td>9.99</td>\n",
       "      <td>2020-12-07</td>\n",
       "      <td>09:22:53</td>\n",
       "    </tr>\n",
       "    <tr>\n",
       "      <th>2</th>\n",
       "      <td>9CD9F34546DF254C</td>\n",
       "      <td>2020-12-07 12:59:29</td>\n",
       "      <td>purchase</td>\n",
       "      <td>4.99</td>\n",
       "      <td>2020-12-07</td>\n",
       "      <td>12:59:29</td>\n",
       "    </tr>\n",
       "    <tr>\n",
       "      <th>3</th>\n",
       "      <td>96F27A054B191457</td>\n",
       "      <td>2020-12-07 04:02:40</td>\n",
       "      <td>purchase</td>\n",
       "      <td>4.99</td>\n",
       "      <td>2020-12-07</td>\n",
       "      <td>04:02:40</td>\n",
       "    </tr>\n",
       "    <tr>\n",
       "      <th>4</th>\n",
       "      <td>1FD7660FDF94CA1F</td>\n",
       "      <td>2020-12-07 10:15:09</td>\n",
       "      <td>purchase</td>\n",
       "      <td>4.99</td>\n",
       "      <td>2020-12-07</td>\n",
       "      <td>10:15:09</td>\n",
       "    </tr>\n",
       "  </tbody>\n",
       "</table>\n",
       "</div>"
      ],
      "text/plain": [
       "            user_id            event_dt event_name  details       date  \\\n",
       "0  E1BDDCE0DAFA2679 2020-12-07 20:22:03   purchase    99.99 2020-12-07   \n",
       "1  7B6452F081F49504 2020-12-07 09:22:53   purchase     9.99 2020-12-07   \n",
       "2  9CD9F34546DF254C 2020-12-07 12:59:29   purchase     4.99 2020-12-07   \n",
       "3  96F27A054B191457 2020-12-07 04:02:40   purchase     4.99 2020-12-07   \n",
       "4  1FD7660FDF94CA1F 2020-12-07 10:15:09   purchase     4.99 2020-12-07   \n",
       "\n",
       "       time  \n",
       "0  20:22:03  \n",
       "1  09:22:53  \n",
       "2  12:59:29  \n",
       "3  04:02:40  \n",
       "4  10:15:09  "
      ]
     },
     "execution_count": 13,
     "metadata": {},
     "output_type": "execute_result"
    }
   ],
   "source": [
    "users_event['date'] = users_event['event_dt'].dt.date\n",
    "users_event['date'] = pd.to_datetime(users_event['date'],format = '%Y-%m-%d')\n",
    "users_event['time'] = users_event['event_dt'].dt.time\n",
    "users_event.head()"
   ]
  },
  {
   "cell_type": "code",
   "execution_count": 14,
   "id": "537834a6",
   "metadata": {
    "ExecuteTime": {
     "end_time": "2023-06-04T17:11:58.500577Z",
     "start_time": "2023-06-04T17:11:58.357680Z"
    }
   },
   "outputs": [
    {
     "data": {
      "text/html": [
       "<div>\n",
       "<style scoped>\n",
       "    .dataframe tbody tr th:only-of-type {\n",
       "        vertical-align: middle;\n",
       "    }\n",
       "\n",
       "    .dataframe tbody tr th {\n",
       "        vertical-align: top;\n",
       "    }\n",
       "\n",
       "    .dataframe thead th {\n",
       "        text-align: right;\n",
       "    }\n",
       "</style>\n",
       "<table border=\"1\" class=\"dataframe\">\n",
       "  <thead>\n",
       "    <tr style=\"text-align: right;\">\n",
       "      <th></th>\n",
       "      <th>user_id</th>\n",
       "      <th>event_dt</th>\n",
       "      <th>event_name</th>\n",
       "      <th>details</th>\n",
       "      <th>date</th>\n",
       "      <th>time</th>\n",
       "    </tr>\n",
       "  </thead>\n",
       "  <tbody>\n",
       "    <tr>\n",
       "      <th>0</th>\n",
       "      <td>E1BDDCE0DAFA2679</td>\n",
       "      <td>2020-12-07 20:22:03</td>\n",
       "      <td>purchase</td>\n",
       "      <td>99.99</td>\n",
       "      <td>2020-12-07</td>\n",
       "      <td>20:22:03</td>\n",
       "    </tr>\n",
       "    <tr>\n",
       "      <th>1</th>\n",
       "      <td>7B6452F081F49504</td>\n",
       "      <td>2020-12-07 09:22:53</td>\n",
       "      <td>purchase</td>\n",
       "      <td>9.99</td>\n",
       "      <td>2020-12-07</td>\n",
       "      <td>09:22:53</td>\n",
       "    </tr>\n",
       "    <tr>\n",
       "      <th>2</th>\n",
       "      <td>9CD9F34546DF254C</td>\n",
       "      <td>2020-12-07 12:59:29</td>\n",
       "      <td>purchase</td>\n",
       "      <td>4.99</td>\n",
       "      <td>2020-12-07</td>\n",
       "      <td>12:59:29</td>\n",
       "    </tr>\n",
       "    <tr>\n",
       "      <th>3</th>\n",
       "      <td>96F27A054B191457</td>\n",
       "      <td>2020-12-07 04:02:40</td>\n",
       "      <td>purchase</td>\n",
       "      <td>4.99</td>\n",
       "      <td>2020-12-07</td>\n",
       "      <td>04:02:40</td>\n",
       "    </tr>\n",
       "    <tr>\n",
       "      <th>4</th>\n",
       "      <td>1FD7660FDF94CA1F</td>\n",
       "      <td>2020-12-07 10:15:09</td>\n",
       "      <td>purchase</td>\n",
       "      <td>4.99</td>\n",
       "      <td>2020-12-07</td>\n",
       "      <td>10:15:09</td>\n",
       "    </tr>\n",
       "    <tr>\n",
       "      <th>...</th>\n",
       "      <td>...</td>\n",
       "      <td>...</td>\n",
       "      <td>...</td>\n",
       "      <td>...</td>\n",
       "      <td>...</td>\n",
       "      <td>...</td>\n",
       "    </tr>\n",
       "    <tr>\n",
       "      <th>423756</th>\n",
       "      <td>245E85F65C358E08</td>\n",
       "      <td>2020-12-30 19:35:55</td>\n",
       "      <td>login</td>\n",
       "      <td>0.00</td>\n",
       "      <td>2020-12-30</td>\n",
       "      <td>19:35:55</td>\n",
       "    </tr>\n",
       "    <tr>\n",
       "      <th>423757</th>\n",
       "      <td>9385A108F5A0A7A7</td>\n",
       "      <td>2020-12-30 10:54:15</td>\n",
       "      <td>login</td>\n",
       "      <td>0.00</td>\n",
       "      <td>2020-12-30</td>\n",
       "      <td>10:54:15</td>\n",
       "    </tr>\n",
       "    <tr>\n",
       "      <th>423758</th>\n",
       "      <td>DB650B7559AC6EAC</td>\n",
       "      <td>2020-12-30 10:59:09</td>\n",
       "      <td>login</td>\n",
       "      <td>0.00</td>\n",
       "      <td>2020-12-30</td>\n",
       "      <td>10:59:09</td>\n",
       "    </tr>\n",
       "    <tr>\n",
       "      <th>423759</th>\n",
       "      <td>F80C9BDDEA02E53C</td>\n",
       "      <td>2020-12-30 09:53:39</td>\n",
       "      <td>login</td>\n",
       "      <td>0.00</td>\n",
       "      <td>2020-12-30</td>\n",
       "      <td>09:53:39</td>\n",
       "    </tr>\n",
       "    <tr>\n",
       "      <th>423760</th>\n",
       "      <td>7AEC61159B672CC5</td>\n",
       "      <td>2020-12-30 11:36:13</td>\n",
       "      <td>login</td>\n",
       "      <td>0.00</td>\n",
       "      <td>2020-12-30</td>\n",
       "      <td>11:36:13</td>\n",
       "    </tr>\n",
       "  </tbody>\n",
       "</table>\n",
       "<p>423761 rows × 6 columns</p>\n",
       "</div>"
      ],
      "text/plain": [
       "                 user_id            event_dt event_name  details       date  \\\n",
       "0       E1BDDCE0DAFA2679 2020-12-07 20:22:03   purchase    99.99 2020-12-07   \n",
       "1       7B6452F081F49504 2020-12-07 09:22:53   purchase     9.99 2020-12-07   \n",
       "2       9CD9F34546DF254C 2020-12-07 12:59:29   purchase     4.99 2020-12-07   \n",
       "3       96F27A054B191457 2020-12-07 04:02:40   purchase     4.99 2020-12-07   \n",
       "4       1FD7660FDF94CA1F 2020-12-07 10:15:09   purchase     4.99 2020-12-07   \n",
       "...                  ...                 ...        ...      ...        ...   \n",
       "423756  245E85F65C358E08 2020-12-30 19:35:55      login     0.00 2020-12-30   \n",
       "423757  9385A108F5A0A7A7 2020-12-30 10:54:15      login     0.00 2020-12-30   \n",
       "423758  DB650B7559AC6EAC 2020-12-30 10:59:09      login     0.00 2020-12-30   \n",
       "423759  F80C9BDDEA02E53C 2020-12-30 09:53:39      login     0.00 2020-12-30   \n",
       "423760  7AEC61159B672CC5 2020-12-30 11:36:13      login     0.00 2020-12-30   \n",
       "\n",
       "            time  \n",
       "0       20:22:03  \n",
       "1       09:22:53  \n",
       "2       12:59:29  \n",
       "3       04:02:40  \n",
       "4       10:15:09  \n",
       "...          ...  \n",
       "423756  19:35:55  \n",
       "423757  10:54:15  \n",
       "423758  10:59:09  \n",
       "423759  09:53:39  \n",
       "423760  11:36:13  \n",
       "\n",
       "[423761 rows x 6 columns]"
      ]
     },
     "execution_count": 14,
     "metadata": {},
     "output_type": "execute_result"
    }
   ],
   "source": [
    "users_event = users_event.fillna(0)\n",
    "users_event"
   ]
  },
  {
   "cell_type": "markdown",
   "id": "2b2acdd1",
   "metadata": {},
   "source": [
    "## User Data"
   ]
  },
  {
   "cell_type": "code",
   "execution_count": 15,
   "id": "d7e4f1d6",
   "metadata": {
    "ExecuteTime": {
     "end_time": "2023-06-04T17:11:58.510122Z",
     "start_time": "2023-06-04T17:11:58.500577Z"
    }
   },
   "outputs": [
    {
     "data": {
      "text/html": [
       "<div>\n",
       "<style scoped>\n",
       "    .dataframe tbody tr th:only-of-type {\n",
       "        vertical-align: middle;\n",
       "    }\n",
       "\n",
       "    .dataframe tbody tr th {\n",
       "        vertical-align: top;\n",
       "    }\n",
       "\n",
       "    .dataframe thead th {\n",
       "        text-align: right;\n",
       "    }\n",
       "</style>\n",
       "<table border=\"1\" class=\"dataframe\">\n",
       "  <thead>\n",
       "    <tr style=\"text-align: right;\">\n",
       "      <th></th>\n",
       "      <th>user_id</th>\n",
       "      <th>first_date</th>\n",
       "      <th>region</th>\n",
       "      <th>device</th>\n",
       "    </tr>\n",
       "  </thead>\n",
       "  <tbody>\n",
       "    <tr>\n",
       "      <th>0</th>\n",
       "      <td>D72A72121175D8BE</td>\n",
       "      <td>2020-12-07</td>\n",
       "      <td>EU</td>\n",
       "      <td>PC</td>\n",
       "    </tr>\n",
       "    <tr>\n",
       "      <th>1</th>\n",
       "      <td>F1C668619DFE6E65</td>\n",
       "      <td>2020-12-07</td>\n",
       "      <td>N.America</td>\n",
       "      <td>Android</td>\n",
       "    </tr>\n",
       "    <tr>\n",
       "      <th>2</th>\n",
       "      <td>2E1BF1D4C37EA01F</td>\n",
       "      <td>2020-12-07</td>\n",
       "      <td>EU</td>\n",
       "      <td>PC</td>\n",
       "    </tr>\n",
       "    <tr>\n",
       "      <th>3</th>\n",
       "      <td>50734A22C0C63768</td>\n",
       "      <td>2020-12-07</td>\n",
       "      <td>EU</td>\n",
       "      <td>iPhone</td>\n",
       "    </tr>\n",
       "    <tr>\n",
       "      <th>4</th>\n",
       "      <td>E1BDDCE0DAFA2679</td>\n",
       "      <td>2020-12-07</td>\n",
       "      <td>N.America</td>\n",
       "      <td>iPhone</td>\n",
       "    </tr>\n",
       "    <tr>\n",
       "      <th>...</th>\n",
       "      <td>...</td>\n",
       "      <td>...</td>\n",
       "      <td>...</td>\n",
       "      <td>...</td>\n",
       "    </tr>\n",
       "    <tr>\n",
       "      <th>58698</th>\n",
       "      <td>1DB53B933257165D</td>\n",
       "      <td>2020-12-20</td>\n",
       "      <td>EU</td>\n",
       "      <td>Android</td>\n",
       "    </tr>\n",
       "    <tr>\n",
       "      <th>58699</th>\n",
       "      <td>538643EB4527ED03</td>\n",
       "      <td>2020-12-20</td>\n",
       "      <td>EU</td>\n",
       "      <td>Mac</td>\n",
       "    </tr>\n",
       "    <tr>\n",
       "      <th>58700</th>\n",
       "      <td>7ADEE837D5D8CBBD</td>\n",
       "      <td>2020-12-20</td>\n",
       "      <td>EU</td>\n",
       "      <td>PC</td>\n",
       "    </tr>\n",
       "    <tr>\n",
       "      <th>58701</th>\n",
       "      <td>1C7D23927835213F</td>\n",
       "      <td>2020-12-20</td>\n",
       "      <td>EU</td>\n",
       "      <td>iPhone</td>\n",
       "    </tr>\n",
       "    <tr>\n",
       "      <th>58702</th>\n",
       "      <td>8F04273BB2860229</td>\n",
       "      <td>2020-12-20</td>\n",
       "      <td>EU</td>\n",
       "      <td>Android</td>\n",
       "    </tr>\n",
       "  </tbody>\n",
       "</table>\n",
       "<p>58703 rows × 4 columns</p>\n",
       "</div>"
      ],
      "text/plain": [
       "                user_id  first_date     region   device\n",
       "0      D72A72121175D8BE  2020-12-07         EU       PC\n",
       "1      F1C668619DFE6E65  2020-12-07  N.America  Android\n",
       "2      2E1BF1D4C37EA01F  2020-12-07         EU       PC\n",
       "3      50734A22C0C63768  2020-12-07         EU   iPhone\n",
       "4      E1BDDCE0DAFA2679  2020-12-07  N.America   iPhone\n",
       "...                 ...         ...        ...      ...\n",
       "58698  1DB53B933257165D  2020-12-20         EU  Android\n",
       "58699  538643EB4527ED03  2020-12-20         EU      Mac\n",
       "58700  7ADEE837D5D8CBBD  2020-12-20         EU       PC\n",
       "58701  1C7D23927835213F  2020-12-20         EU   iPhone\n",
       "58702  8F04273BB2860229  2020-12-20         EU  Android\n",
       "\n",
       "[58703 rows x 4 columns]"
      ]
     },
     "execution_count": 15,
     "metadata": {},
     "output_type": "execute_result"
    }
   ],
   "source": [
    "users"
   ]
  },
  {
   "cell_type": "code",
   "execution_count": 16,
   "id": "2c202b25",
   "metadata": {
    "ExecuteTime": {
     "end_time": "2023-06-04T17:11:58.538626Z",
     "start_time": "2023-06-04T17:11:58.510122Z"
    }
   },
   "outputs": [
    {
     "name": "stdout",
     "output_type": "stream",
     "text": [
      "<class 'pandas.core.frame.DataFrame'>\n",
      "RangeIndex: 58703 entries, 0 to 58702\n",
      "Data columns (total 4 columns):\n",
      " #   Column      Non-Null Count  Dtype \n",
      "---  ------      --------------  ----- \n",
      " 0   user_id     58703 non-null  object\n",
      " 1   first_date  58703 non-null  object\n",
      " 2   region      58703 non-null  object\n",
      " 3   device      58703 non-null  object\n",
      "dtypes: object(4)\n",
      "memory usage: 1.8+ MB\n"
     ]
    }
   ],
   "source": [
    "users.info()"
   ]
  },
  {
   "cell_type": "code",
   "execution_count": 17,
   "id": "51c6f227",
   "metadata": {
    "ExecuteTime": {
     "end_time": "2023-06-04T17:11:58.565273Z",
     "start_time": "2023-06-04T17:11:58.539627Z"
    }
   },
   "outputs": [
    {
     "data": {
      "text/plain": [
       "0"
      ]
     },
     "execution_count": 17,
     "metadata": {},
     "output_type": "execute_result"
    }
   ],
   "source": [
    "users.duplicated().sum()"
   ]
  },
  {
   "cell_type": "code",
   "execution_count": 18,
   "id": "7d56a1ba",
   "metadata": {
    "ExecuteTime": {
     "end_time": "2023-06-04T17:11:58.592167Z",
     "start_time": "2023-06-04T17:11:58.566273Z"
    }
   },
   "outputs": [
    {
     "data": {
      "text/plain": [
       "user_id       0\n",
       "first_date    0\n",
       "region        0\n",
       "device        0\n",
       "dtype: int64"
      ]
     },
     "execution_count": 18,
     "metadata": {},
     "output_type": "execute_result"
    }
   ],
   "source": [
    "users.isna().sum()"
   ]
  },
  {
   "cell_type": "code",
   "execution_count": 19,
   "id": "59f72516",
   "metadata": {
    "ExecuteTime": {
     "end_time": "2023-06-04T17:11:58.628905Z",
     "start_time": "2023-06-04T17:11:58.593167Z"
    }
   },
   "outputs": [
    {
     "name": "stdout",
     "output_type": "stream",
     "text": [
      "<class 'pandas.core.frame.DataFrame'>\n",
      "RangeIndex: 58703 entries, 0 to 58702\n",
      "Data columns (total 4 columns):\n",
      " #   Column      Non-Null Count  Dtype         \n",
      "---  ------      --------------  -----         \n",
      " 0   user_id     58703 non-null  object        \n",
      " 1   first_date  58703 non-null  datetime64[ns]\n",
      " 2   region      58703 non-null  object        \n",
      " 3   device      58703 non-null  object        \n",
      "dtypes: datetime64[ns](1), object(3)\n",
      "memory usage: 1.8+ MB\n"
     ]
    }
   ],
   "source": [
    "users['first_date'] = pd.to_datetime(users['first_date'] ,format = '%Y-%m-%d')\n",
    "users.info()"
   ]
  },
  {
   "cell_type": "markdown",
   "id": "1f9778cd",
   "metadata": {},
   "source": [
    "## A/B participants"
   ]
  },
  {
   "cell_type": "code",
   "execution_count": 20,
   "id": "05206fc1",
   "metadata": {
    "ExecuteTime": {
     "end_time": "2023-06-04T17:11:58.644908Z",
     "start_time": "2023-06-04T17:11:58.629905Z"
    }
   },
   "outputs": [
    {
     "data": {
      "text/html": [
       "<div>\n",
       "<style scoped>\n",
       "    .dataframe tbody tr th:only-of-type {\n",
       "        vertical-align: middle;\n",
       "    }\n",
       "\n",
       "    .dataframe tbody tr th {\n",
       "        vertical-align: top;\n",
       "    }\n",
       "\n",
       "    .dataframe thead th {\n",
       "        text-align: right;\n",
       "    }\n",
       "</style>\n",
       "<table border=\"1\" class=\"dataframe\">\n",
       "  <thead>\n",
       "    <tr style=\"text-align: right;\">\n",
       "      <th></th>\n",
       "      <th>user_id</th>\n",
       "      <th>group</th>\n",
       "      <th>ab_test</th>\n",
       "    </tr>\n",
       "  </thead>\n",
       "  <tbody>\n",
       "    <tr>\n",
       "      <th>0</th>\n",
       "      <td>D1ABA3E2887B6A73</td>\n",
       "      <td>A</td>\n",
       "      <td>recommender_system_test</td>\n",
       "    </tr>\n",
       "    <tr>\n",
       "      <th>1</th>\n",
       "      <td>A7A3664BD6242119</td>\n",
       "      <td>A</td>\n",
       "      <td>recommender_system_test</td>\n",
       "    </tr>\n",
       "    <tr>\n",
       "      <th>2</th>\n",
       "      <td>DABC14FDDFADD29E</td>\n",
       "      <td>A</td>\n",
       "      <td>recommender_system_test</td>\n",
       "    </tr>\n",
       "    <tr>\n",
       "      <th>3</th>\n",
       "      <td>04988C5DF189632E</td>\n",
       "      <td>A</td>\n",
       "      <td>recommender_system_test</td>\n",
       "    </tr>\n",
       "    <tr>\n",
       "      <th>4</th>\n",
       "      <td>4FF2998A348C484F</td>\n",
       "      <td>A</td>\n",
       "      <td>recommender_system_test</td>\n",
       "    </tr>\n",
       "    <tr>\n",
       "      <th>...</th>\n",
       "      <td>...</td>\n",
       "      <td>...</td>\n",
       "      <td>...</td>\n",
       "    </tr>\n",
       "    <tr>\n",
       "      <th>14520</th>\n",
       "      <td>1D302F8688B91781</td>\n",
       "      <td>B</td>\n",
       "      <td>interface_eu_test</td>\n",
       "    </tr>\n",
       "    <tr>\n",
       "      <th>14521</th>\n",
       "      <td>3DE51B726983B657</td>\n",
       "      <td>A</td>\n",
       "      <td>interface_eu_test</td>\n",
       "    </tr>\n",
       "    <tr>\n",
       "      <th>14522</th>\n",
       "      <td>F501F79D332BE86C</td>\n",
       "      <td>A</td>\n",
       "      <td>interface_eu_test</td>\n",
       "    </tr>\n",
       "    <tr>\n",
       "      <th>14523</th>\n",
       "      <td>63FBE257B05F2245</td>\n",
       "      <td>A</td>\n",
       "      <td>interface_eu_test</td>\n",
       "    </tr>\n",
       "    <tr>\n",
       "      <th>14524</th>\n",
       "      <td>79F9ABFB029CF724</td>\n",
       "      <td>B</td>\n",
       "      <td>interface_eu_test</td>\n",
       "    </tr>\n",
       "  </tbody>\n",
       "</table>\n",
       "<p>14525 rows × 3 columns</p>\n",
       "</div>"
      ],
      "text/plain": [
       "                user_id group                  ab_test\n",
       "0      D1ABA3E2887B6A73     A  recommender_system_test\n",
       "1      A7A3664BD6242119     A  recommender_system_test\n",
       "2      DABC14FDDFADD29E     A  recommender_system_test\n",
       "3      04988C5DF189632E     A  recommender_system_test\n",
       "4      4FF2998A348C484F     A  recommender_system_test\n",
       "...                 ...   ...                      ...\n",
       "14520  1D302F8688B91781     B        interface_eu_test\n",
       "14521  3DE51B726983B657     A        interface_eu_test\n",
       "14522  F501F79D332BE86C     A        interface_eu_test\n",
       "14523  63FBE257B05F2245     A        interface_eu_test\n",
       "14524  79F9ABFB029CF724     B        interface_eu_test\n",
       "\n",
       "[14525 rows x 3 columns]"
      ]
     },
     "execution_count": 20,
     "metadata": {},
     "output_type": "execute_result"
    }
   ],
   "source": [
    "participants"
   ]
  },
  {
   "cell_type": "code",
   "execution_count": 21,
   "id": "3e836d90",
   "metadata": {
    "ExecuteTime": {
     "end_time": "2023-06-04T17:11:58.660614Z",
     "start_time": "2023-06-04T17:11:58.645909Z"
    }
   },
   "outputs": [
    {
     "name": "stdout",
     "output_type": "stream",
     "text": [
      "<class 'pandas.core.frame.DataFrame'>\n",
      "RangeIndex: 14525 entries, 0 to 14524\n",
      "Data columns (total 3 columns):\n",
      " #   Column   Non-Null Count  Dtype \n",
      "---  ------   --------------  ----- \n",
      " 0   user_id  14525 non-null  object\n",
      " 1   group    14525 non-null  object\n",
      " 2   ab_test  14525 non-null  object\n",
      "dtypes: object(3)\n",
      "memory usage: 340.6+ KB\n"
     ]
    }
   ],
   "source": [
    "participants.info()"
   ]
  },
  {
   "cell_type": "code",
   "execution_count": 22,
   "id": "f43152ab",
   "metadata": {
    "ExecuteTime": {
     "end_time": "2023-06-04T17:11:58.676618Z",
     "start_time": "2023-06-04T17:11:58.661615Z"
    }
   },
   "outputs": [
    {
     "data": {
      "text/plain": [
       "user_id    0\n",
       "group      0\n",
       "ab_test    0\n",
       "dtype: int64"
      ]
     },
     "execution_count": 22,
     "metadata": {},
     "output_type": "execute_result"
    }
   ],
   "source": [
    "participants.isna().sum()"
   ]
  },
  {
   "cell_type": "markdown",
   "id": "2bc57bd9",
   "metadata": {},
   "source": [
    " "
   ]
  },
  {
   "cell_type": "markdown",
   "id": "0a0eb678",
   "metadata": {},
   "source": [
    "# Data preparing"
   ]
  },
  {
   "cell_type": "code",
   "execution_count": 23,
   "id": "39df7979",
   "metadata": {
    "ExecuteTime": {
     "end_time": "2023-06-04T17:11:58.800183Z",
     "start_time": "2023-06-04T17:11:58.677619Z"
    }
   },
   "outputs": [
    {
     "data": {
      "text/html": [
       "<div>\n",
       "<style scoped>\n",
       "    .dataframe tbody tr th:only-of-type {\n",
       "        vertical-align: middle;\n",
       "    }\n",
       "\n",
       "    .dataframe tbody tr th {\n",
       "        vertical-align: top;\n",
       "    }\n",
       "\n",
       "    .dataframe thead th {\n",
       "        text-align: right;\n",
       "    }\n",
       "</style>\n",
       "<table border=\"1\" class=\"dataframe\">\n",
       "  <thead>\n",
       "    <tr style=\"text-align: right;\">\n",
       "      <th></th>\n",
       "      <th>user_id</th>\n",
       "      <th>event_dt</th>\n",
       "      <th>event_name</th>\n",
       "      <th>details</th>\n",
       "      <th>date</th>\n",
       "      <th>time</th>\n",
       "      <th>group</th>\n",
       "      <th>ab_test</th>\n",
       "    </tr>\n",
       "  </thead>\n",
       "  <tbody>\n",
       "    <tr>\n",
       "      <th>0</th>\n",
       "      <td>E1BDDCE0DAFA2679</td>\n",
       "      <td>2020-12-07 20:22:03</td>\n",
       "      <td>purchase</td>\n",
       "      <td>99.99</td>\n",
       "      <td>2020-12-07</td>\n",
       "      <td>20:22:03</td>\n",
       "      <td>NaN</td>\n",
       "      <td>NaN</td>\n",
       "    </tr>\n",
       "    <tr>\n",
       "      <th>1</th>\n",
       "      <td>7B6452F081F49504</td>\n",
       "      <td>2020-12-07 09:22:53</td>\n",
       "      <td>purchase</td>\n",
       "      <td>9.99</td>\n",
       "      <td>2020-12-07</td>\n",
       "      <td>09:22:53</td>\n",
       "      <td>NaN</td>\n",
       "      <td>NaN</td>\n",
       "    </tr>\n",
       "    <tr>\n",
       "      <th>2</th>\n",
       "      <td>9CD9F34546DF254C</td>\n",
       "      <td>2020-12-07 12:59:29</td>\n",
       "      <td>purchase</td>\n",
       "      <td>4.99</td>\n",
       "      <td>2020-12-07</td>\n",
       "      <td>12:59:29</td>\n",
       "      <td>NaN</td>\n",
       "      <td>NaN</td>\n",
       "    </tr>\n",
       "    <tr>\n",
       "      <th>3</th>\n",
       "      <td>96F27A054B191457</td>\n",
       "      <td>2020-12-07 04:02:40</td>\n",
       "      <td>purchase</td>\n",
       "      <td>4.99</td>\n",
       "      <td>2020-12-07</td>\n",
       "      <td>04:02:40</td>\n",
       "      <td>B</td>\n",
       "      <td>interface_eu_test</td>\n",
       "    </tr>\n",
       "    <tr>\n",
       "      <th>4</th>\n",
       "      <td>1FD7660FDF94CA1F</td>\n",
       "      <td>2020-12-07 10:15:09</td>\n",
       "      <td>purchase</td>\n",
       "      <td>4.99</td>\n",
       "      <td>2020-12-07</td>\n",
       "      <td>10:15:09</td>\n",
       "      <td>NaN</td>\n",
       "      <td>NaN</td>\n",
       "    </tr>\n",
       "  </tbody>\n",
       "</table>\n",
       "</div>"
      ],
      "text/plain": [
       "            user_id            event_dt event_name  details       date  \\\n",
       "0  E1BDDCE0DAFA2679 2020-12-07 20:22:03   purchase    99.99 2020-12-07   \n",
       "1  7B6452F081F49504 2020-12-07 09:22:53   purchase     9.99 2020-12-07   \n",
       "2  9CD9F34546DF254C 2020-12-07 12:59:29   purchase     4.99 2020-12-07   \n",
       "3  96F27A054B191457 2020-12-07 04:02:40   purchase     4.99 2020-12-07   \n",
       "4  1FD7660FDF94CA1F 2020-12-07 10:15:09   purchase     4.99 2020-12-07   \n",
       "\n",
       "       time group            ab_test  \n",
       "0  20:22:03   NaN                NaN  \n",
       "1  09:22:53   NaN                NaN  \n",
       "2  12:59:29   NaN                NaN  \n",
       "3  04:02:40     B  interface_eu_test  \n",
       "4  10:15:09   NaN                NaN  "
      ]
     },
     "execution_count": 23,
     "metadata": {},
     "output_type": "execute_result"
    }
   ],
   "source": [
    "events = pd.merge(users_event,participants,how='left')\n",
    "events.head()"
   ]
  },
  {
   "cell_type": "code",
   "execution_count": 24,
   "id": "67c8b156",
   "metadata": {
    "ExecuteTime": {
     "end_time": "2023-06-04T17:11:58.835781Z",
     "start_time": "2023-06-04T17:11:58.801184Z"
    }
   },
   "outputs": [
    {
     "data": {
      "text/html": [
       "<div>\n",
       "<style scoped>\n",
       "    .dataframe tbody tr th:only-of-type {\n",
       "        vertical-align: middle;\n",
       "    }\n",
       "\n",
       "    .dataframe tbody tr th {\n",
       "        vertical-align: top;\n",
       "    }\n",
       "\n",
       "    .dataframe thead th {\n",
       "        text-align: right;\n",
       "    }\n",
       "</style>\n",
       "<table border=\"1\" class=\"dataframe\">\n",
       "  <thead>\n",
       "    <tr style=\"text-align: right;\">\n",
       "      <th></th>\n",
       "      <th>user_id</th>\n",
       "      <th>first_date</th>\n",
       "      <th>region</th>\n",
       "      <th>device</th>\n",
       "      <th>group</th>\n",
       "      <th>ab_test</th>\n",
       "    </tr>\n",
       "  </thead>\n",
       "  <tbody>\n",
       "    <tr>\n",
       "      <th>0</th>\n",
       "      <td>D72A72121175D8BE</td>\n",
       "      <td>2020-12-07</td>\n",
       "      <td>EU</td>\n",
       "      <td>PC</td>\n",
       "      <td>A</td>\n",
       "      <td>recommender_system_test</td>\n",
       "    </tr>\n",
       "    <tr>\n",
       "      <th>1</th>\n",
       "      <td>F1C668619DFE6E65</td>\n",
       "      <td>2020-12-07</td>\n",
       "      <td>N.America</td>\n",
       "      <td>Android</td>\n",
       "      <td>NaN</td>\n",
       "      <td>NaN</td>\n",
       "    </tr>\n",
       "    <tr>\n",
       "      <th>2</th>\n",
       "      <td>2E1BF1D4C37EA01F</td>\n",
       "      <td>2020-12-07</td>\n",
       "      <td>EU</td>\n",
       "      <td>PC</td>\n",
       "      <td>A</td>\n",
       "      <td>interface_eu_test</td>\n",
       "    </tr>\n",
       "    <tr>\n",
       "      <th>3</th>\n",
       "      <td>50734A22C0C63768</td>\n",
       "      <td>2020-12-07</td>\n",
       "      <td>EU</td>\n",
       "      <td>iPhone</td>\n",
       "      <td>B</td>\n",
       "      <td>interface_eu_test</td>\n",
       "    </tr>\n",
       "    <tr>\n",
       "      <th>4</th>\n",
       "      <td>E1BDDCE0DAFA2679</td>\n",
       "      <td>2020-12-07</td>\n",
       "      <td>N.America</td>\n",
       "      <td>iPhone</td>\n",
       "      <td>NaN</td>\n",
       "      <td>NaN</td>\n",
       "    </tr>\n",
       "  </tbody>\n",
       "</table>\n",
       "</div>"
      ],
      "text/plain": [
       "            user_id first_date     region   device group  \\\n",
       "0  D72A72121175D8BE 2020-12-07         EU       PC     A   \n",
       "1  F1C668619DFE6E65 2020-12-07  N.America  Android   NaN   \n",
       "2  2E1BF1D4C37EA01F 2020-12-07         EU       PC     A   \n",
       "3  50734A22C0C63768 2020-12-07         EU   iPhone     B   \n",
       "4  E1BDDCE0DAFA2679 2020-12-07  N.America   iPhone   NaN   \n",
       "\n",
       "                   ab_test  \n",
       "0  recommender_system_test  \n",
       "1                      NaN  \n",
       "2        interface_eu_test  \n",
       "3        interface_eu_test  \n",
       "4                      NaN  "
      ]
     },
     "execution_count": 24,
     "metadata": {},
     "output_type": "execute_result"
    }
   ],
   "source": [
    "users = pd.merge(users,participants,how='left')\n",
    "users.head()"
   ]
  },
  {
   "cell_type": "markdown",
   "id": "7ee70307",
   "metadata": {},
   "source": [
    "# SDA "
   ]
  },
  {
   "cell_type": "markdown",
   "id": "1b9efbf8",
   "metadata": {
    "ExecuteTime": {
     "end_time": "2023-06-01T02:19:43.245941Z",
     "start_time": "2023-06-01T02:19:43.238932Z"
    }
   },
   "source": [
    "## Check the marketing activities"
   ]
  },
  {
   "cell_type": "markdown",
   "id": "3ac87e51",
   "metadata": {},
   "source": [
    "Lets check the marketing with the test date."
   ]
  },
  {
   "cell_type": "code",
   "execution_count": 25,
   "id": "1718272a",
   "metadata": {
    "ExecuteTime": {
     "end_time": "2023-06-04T17:11:58.851785Z",
     "start_time": "2023-06-04T17:11:58.836782Z"
    }
   },
   "outputs": [
    {
     "data": {
      "text/html": [
       "<div>\n",
       "<style scoped>\n",
       "    .dataframe tbody tr th:only-of-type {\n",
       "        vertical-align: middle;\n",
       "    }\n",
       "\n",
       "    .dataframe tbody tr th {\n",
       "        vertical-align: top;\n",
       "    }\n",
       "\n",
       "    .dataframe thead th {\n",
       "        text-align: right;\n",
       "    }\n",
       "</style>\n",
       "<table border=\"1\" class=\"dataframe\">\n",
       "  <thead>\n",
       "    <tr style=\"text-align: right;\">\n",
       "      <th></th>\n",
       "      <th>name</th>\n",
       "      <th>regions</th>\n",
       "      <th>start_dt</th>\n",
       "      <th>finish_dt</th>\n",
       "    </tr>\n",
       "  </thead>\n",
       "  <tbody>\n",
       "    <tr>\n",
       "      <th>0</th>\n",
       "      <td>Christmas&amp;New Year Promo</td>\n",
       "      <td>EU, N.America</td>\n",
       "      <td>2020-12-25</td>\n",
       "      <td>2021-01-03</td>\n",
       "    </tr>\n",
       "  </tbody>\n",
       "</table>\n",
       "</div>"
      ],
      "text/plain": [
       "                       name        regions   start_dt  finish_dt\n",
       "0  Christmas&New Year Promo  EU, N.America 2020-12-25 2021-01-03"
      ]
     },
     "execution_count": 25,
     "metadata": {},
     "output_type": "execute_result"
    }
   ],
   "source": [
    "eu_marketing = marketing[marketing['regions'].str.contains('EU')]\n",
    "start_test = '2020-12-07'\n",
    "end_test = '2021-01-01'\n",
    "\n",
    "intersect_marketing = eu_marketing.query('(start_dt >= @start_test and start_dt <= @end_test) or \\\n",
    "                           (finish_dt >= @start_test and finish_dt <= @end_test)')\n",
    "intersect_marketing"
   ]
  },
  {
   "cell_type": "markdown",
   "id": "a415fab4",
   "metadata": {},
   "source": [
    "**Observation**\n",
    "\n",
    "Looks like the Christmas&New Year Promo marketing was started during the test. This event might disturb the test later on."
   ]
  },
  {
   "cell_type": "markdown",
   "id": "49f0828f",
   "metadata": {},
   "source": [
    "##  Check the test participants"
   ]
  },
  {
   "cell_type": "markdown",
   "id": "9fc01e66",
   "metadata": {},
   "source": [
    "Lets check the test participants test."
   ]
  },
  {
   "cell_type": "code",
   "execution_count": 26,
   "id": "1aa3b97b",
   "metadata": {
    "ExecuteTime": {
     "end_time": "2023-06-04T17:11:58.867365Z",
     "start_time": "2023-06-04T17:11:58.852785Z"
    }
   },
   "outputs": [
    {
     "data": {
      "text/html": [
       "<div>\n",
       "<style scoped>\n",
       "    .dataframe tbody tr th:only-of-type {\n",
       "        vertical-align: middle;\n",
       "    }\n",
       "\n",
       "    .dataframe tbody tr th {\n",
       "        vertical-align: top;\n",
       "    }\n",
       "\n",
       "    .dataframe thead th {\n",
       "        text-align: right;\n",
       "    }\n",
       "</style>\n",
       "<table border=\"1\" class=\"dataframe\">\n",
       "  <thead>\n",
       "    <tr style=\"text-align: right;\">\n",
       "      <th></th>\n",
       "      <th></th>\n",
       "      <th>user_id</th>\n",
       "    </tr>\n",
       "    <tr>\n",
       "      <th>ab_test</th>\n",
       "      <th>group</th>\n",
       "      <th></th>\n",
       "    </tr>\n",
       "  </thead>\n",
       "  <tbody>\n",
       "    <tr>\n",
       "      <th rowspan=\"2\" valign=\"top\">interface_eu_test</th>\n",
       "      <th>A</th>\n",
       "      <td>5467</td>\n",
       "    </tr>\n",
       "    <tr>\n",
       "      <th>B</th>\n",
       "      <td>5383</td>\n",
       "    </tr>\n",
       "    <tr>\n",
       "      <th rowspan=\"2\" valign=\"top\">recommender_system_test</th>\n",
       "      <th>A</th>\n",
       "      <td>2747</td>\n",
       "    </tr>\n",
       "    <tr>\n",
       "      <th>B</th>\n",
       "      <td>928</td>\n",
       "    </tr>\n",
       "  </tbody>\n",
       "</table>\n",
       "</div>"
      ],
      "text/plain": [
       "                               user_id\n",
       "ab_test                 group         \n",
       "interface_eu_test       A         5467\n",
       "                        B         5383\n",
       "recommender_system_test A         2747\n",
       "                        B          928"
      ]
     },
     "execution_count": 26,
     "metadata": {},
     "output_type": "execute_result"
    }
   ],
   "source": [
    "participants.groupby(['ab_test','group']).agg({'user_id':'nunique'})"
   ]
  },
  {
   "cell_type": "markdown",
   "id": "e54e3468",
   "metadata": {},
   "source": [
    "**Observation**\n",
    "\n",
    "From the 2 test, looks like the participant was overlap with the same eu region. It may distorted our result later. "
   ]
  },
  {
   "cell_type": "markdown",
   "id": "4d811670",
   "metadata": {},
   "source": [
    "Lets check if the participant were overlap with the 2 tests or in 2 group."
   ]
  },
  {
   "cell_type": "code",
   "execution_count": 27,
   "id": "454d9eaf",
   "metadata": {
    "ExecuteTime": {
     "end_time": "2023-06-04T17:11:58.883372Z",
     "start_time": "2023-06-04T17:11:58.868369Z"
    },
    "scrolled": true
   },
   "outputs": [
    {
     "data": {
      "text/html": [
       "<div>\n",
       "<style scoped>\n",
       "    .dataframe tbody tr th:only-of-type {\n",
       "        vertical-align: middle;\n",
       "    }\n",
       "\n",
       "    .dataframe tbody tr th {\n",
       "        vertical-align: top;\n",
       "    }\n",
       "\n",
       "    .dataframe thead th {\n",
       "        text-align: right;\n",
       "    }\n",
       "</style>\n",
       "<table border=\"1\" class=\"dataframe\">\n",
       "  <thead>\n",
       "    <tr style=\"text-align: right;\">\n",
       "      <th></th>\n",
       "      <th>user_id</th>\n",
       "      <th>ab_test</th>\n",
       "      <th>group</th>\n",
       "    </tr>\n",
       "  </thead>\n",
       "  <tbody>\n",
       "    <tr>\n",
       "      <th>0</th>\n",
       "      <td>001064FEAAB631A1</td>\n",
       "      <td>2</td>\n",
       "      <td>1</td>\n",
       "    </tr>\n",
       "    <tr>\n",
       "      <th>1</th>\n",
       "      <td>0010A1C096941592</td>\n",
       "      <td>1</td>\n",
       "      <td>1</td>\n",
       "    </tr>\n",
       "    <tr>\n",
       "      <th>2</th>\n",
       "      <td>00341D8401F0F665</td>\n",
       "      <td>2</td>\n",
       "      <td>1</td>\n",
       "    </tr>\n",
       "    <tr>\n",
       "      <th>3</th>\n",
       "      <td>003DF44D7589BBD4</td>\n",
       "      <td>1</td>\n",
       "      <td>1</td>\n",
       "    </tr>\n",
       "    <tr>\n",
       "      <th>4</th>\n",
       "      <td>00505E15A9D81546</td>\n",
       "      <td>1</td>\n",
       "      <td>1</td>\n",
       "    </tr>\n",
       "  </tbody>\n",
       "</table>\n",
       "</div>"
      ],
      "text/plain": [
       "            user_id  ab_test  group\n",
       "0  001064FEAAB631A1        2      1\n",
       "1  0010A1C096941592        1      1\n",
       "2  00341D8401F0F665        2      1\n",
       "3  003DF44D7589BBD4        1      1\n",
       "4  00505E15A9D81546        1      1"
      ]
     },
     "execution_count": 27,
     "metadata": {},
     "output_type": "execute_result"
    }
   ],
   "source": [
    "recom_test = participants.query('ab_test == \"recommender_system_test\"')\n",
    "intersect_participant = (participants[participants['user_id'].isin(recom_test['user_id'].unique())]\n",
    "                         .groupby(['user_id'])\n",
    "                         .agg({'ab_test': 'nunique', 'group': 'nunique'})).reset_index()\n",
    "intersect_participant.head()"
   ]
  },
  {
   "cell_type": "code",
   "execution_count": 28,
   "id": "bd2b2351",
   "metadata": {
    "ExecuteTime": {
     "end_time": "2023-06-04T17:11:58.899375Z",
     "start_time": "2023-06-04T17:11:58.887373Z"
    },
    "scrolled": true
   },
   "outputs": [
    {
     "data": {
      "text/html": [
       "<div>\n",
       "<style scoped>\n",
       "    .dataframe tbody tr th:only-of-type {\n",
       "        vertical-align: middle;\n",
       "    }\n",
       "\n",
       "    .dataframe tbody tr th {\n",
       "        vertical-align: top;\n",
       "    }\n",
       "\n",
       "    .dataframe thead th {\n",
       "        text-align: right;\n",
       "    }\n",
       "</style>\n",
       "<table border=\"1\" class=\"dataframe\">\n",
       "  <thead>\n",
       "    <tr style=\"text-align: right;\">\n",
       "      <th></th>\n",
       "      <th>user_id</th>\n",
       "      <th>ab_test</th>\n",
       "      <th>group</th>\n",
       "    </tr>\n",
       "  </thead>\n",
       "  <tbody>\n",
       "    <tr>\n",
       "      <th>7</th>\n",
       "      <td>0082295A41A867B5</td>\n",
       "      <td>2</td>\n",
       "      <td>2</td>\n",
       "    </tr>\n",
       "    <tr>\n",
       "      <th>10</th>\n",
       "      <td>00E68F103C66C1F7</td>\n",
       "      <td>2</td>\n",
       "      <td>2</td>\n",
       "    </tr>\n",
       "    <tr>\n",
       "      <th>32</th>\n",
       "      <td>02313B9E82255F47</td>\n",
       "      <td>2</td>\n",
       "      <td>2</td>\n",
       "    </tr>\n",
       "    <tr>\n",
       "      <th>61</th>\n",
       "      <td>04F2CF340B4F3822</td>\n",
       "      <td>2</td>\n",
       "      <td>2</td>\n",
       "    </tr>\n",
       "    <tr>\n",
       "      <th>63</th>\n",
       "      <td>051D59BC38C3B3AA</td>\n",
       "      <td>2</td>\n",
       "      <td>2</td>\n",
       "    </tr>\n",
       "  </tbody>\n",
       "</table>\n",
       "</div>"
      ],
      "text/plain": [
       "             user_id  ab_test  group\n",
       "7   0082295A41A867B5        2      2\n",
       "10  00E68F103C66C1F7        2      2\n",
       "32  02313B9E82255F47        2      2\n",
       "61  04F2CF340B4F3822        2      2\n",
       "63  051D59BC38C3B3AA        2      2"
      ]
     },
     "execution_count": 28,
     "metadata": {},
     "output_type": "execute_result"
    }
   ],
   "source": [
    "intersect_participant [intersect_participant['group']==2].head()"
   ]
  },
  {
   "cell_type": "markdown",
   "id": "67df0898",
   "metadata": {},
   "source": [
    "Looks like the id have 2 test and have 2 groups in it.\n",
    "\n",
    "Lets find the percentage for the number of id that contain 2 tests or 2 groups"
   ]
  },
  {
   "cell_type": "code",
   "execution_count": 29,
   "id": "ea9a66be",
   "metadata": {
    "ExecuteTime": {
     "end_time": "2023-06-04T17:11:58.915379Z",
     "start_time": "2023-06-04T17:11:58.900376Z"
    }
   },
   "outputs": [
    {
     "name": "stdout",
     "output_type": "stream",
     "text": [
      "Participants Intersection: 887\n",
      "Percentage Difference: 24.14%\n"
     ]
    }
   ],
   "source": [
    "overlap_participants = intersect_participant.query('ab_test > 1 or group > 1').shape[0]\n",
    "all_participants = len(intersect_participant['user_id'])\n",
    "\n",
    "print(f'Participants Intersection: {overlap_participants}')\n",
    "print(f'Percentage Difference: {(overlap_participants / all_participants):.2%}')"
   ]
  },
  {
   "cell_type": "code",
   "execution_count": 30,
   "id": "c5011694",
   "metadata": {},
   "outputs": [
    {
     "data": {
      "text/html": [
       "<div>\n",
       "<style scoped>\n",
       "    .dataframe tbody tr th:only-of-type {\n",
       "        vertical-align: middle;\n",
       "    }\n",
       "\n",
       "    .dataframe tbody tr th {\n",
       "        vertical-align: top;\n",
       "    }\n",
       "\n",
       "    .dataframe thead th {\n",
       "        text-align: right;\n",
       "    }\n",
       "</style>\n",
       "<table border=\"1\" class=\"dataframe\">\n",
       "  <thead>\n",
       "    <tr style=\"text-align: right;\">\n",
       "      <th></th>\n",
       "      <th>user_id</th>\n",
       "      <th>group</th>\n",
       "      <th>ab_test</th>\n",
       "    </tr>\n",
       "  </thead>\n",
       "  <tbody>\n",
       "    <tr>\n",
       "      <th>0</th>\n",
       "      <td>D1ABA3E2887B6A73</td>\n",
       "      <td>A</td>\n",
       "      <td>recommender_system_test</td>\n",
       "    </tr>\n",
       "    <tr>\n",
       "      <th>1</th>\n",
       "      <td>A7A3664BD6242119</td>\n",
       "      <td>A</td>\n",
       "      <td>recommender_system_test</td>\n",
       "    </tr>\n",
       "    <tr>\n",
       "      <th>4</th>\n",
       "      <td>4FF2998A348C484F</td>\n",
       "      <td>A</td>\n",
       "      <td>recommender_system_test</td>\n",
       "    </tr>\n",
       "    <tr>\n",
       "      <th>5</th>\n",
       "      <td>7473E0943673C09E</td>\n",
       "      <td>A</td>\n",
       "      <td>recommender_system_test</td>\n",
       "    </tr>\n",
       "    <tr>\n",
       "      <th>6</th>\n",
       "      <td>C46FE336D240A054</td>\n",
       "      <td>A</td>\n",
       "      <td>recommender_system_test</td>\n",
       "    </tr>\n",
       "    <tr>\n",
       "      <th>...</th>\n",
       "      <td>...</td>\n",
       "      <td>...</td>\n",
       "      <td>...</td>\n",
       "    </tr>\n",
       "    <tr>\n",
       "      <th>3670</th>\n",
       "      <td>053FB26D6D49EDDC</td>\n",
       "      <td>A</td>\n",
       "      <td>recommender_system_test</td>\n",
       "    </tr>\n",
       "    <tr>\n",
       "      <th>3671</th>\n",
       "      <td>9D263B8EF15CF188</td>\n",
       "      <td>B</td>\n",
       "      <td>recommender_system_test</td>\n",
       "    </tr>\n",
       "    <tr>\n",
       "      <th>3672</th>\n",
       "      <td>F2FBBA33F37DEC46</td>\n",
       "      <td>A</td>\n",
       "      <td>recommender_system_test</td>\n",
       "    </tr>\n",
       "    <tr>\n",
       "      <th>3673</th>\n",
       "      <td>29C92313A98B1176</td>\n",
       "      <td>B</td>\n",
       "      <td>recommender_system_test</td>\n",
       "    </tr>\n",
       "    <tr>\n",
       "      <th>3674</th>\n",
       "      <td>6715343AFBA285AE</td>\n",
       "      <td>B</td>\n",
       "      <td>recommender_system_test</td>\n",
       "    </tr>\n",
       "  </tbody>\n",
       "</table>\n",
       "<p>2788 rows × 3 columns</p>\n",
       "</div>"
      ],
      "text/plain": [
       "               user_id group                  ab_test\n",
       "0     D1ABA3E2887B6A73     A  recommender_system_test\n",
       "1     A7A3664BD6242119     A  recommender_system_test\n",
       "4     4FF2998A348C484F     A  recommender_system_test\n",
       "5     7473E0943673C09E     A  recommender_system_test\n",
       "6     C46FE336D240A054     A  recommender_system_test\n",
       "...                ...   ...                      ...\n",
       "3670  053FB26D6D49EDDC     A  recommender_system_test\n",
       "3671  9D263B8EF15CF188     B  recommender_system_test\n",
       "3672  F2FBBA33F37DEC46     A  recommender_system_test\n",
       "3673  29C92313A98B1176     B  recommender_system_test\n",
       "3674  6715343AFBA285AE     B  recommender_system_test\n",
       "\n",
       "[2788 rows x 3 columns]"
      ]
     },
     "execution_count": 30,
     "metadata": {},
     "output_type": "execute_result"
    }
   ],
   "source": [
    "overlap_participants = list(intersect_participant.query('ab_test > 1 or group > 1')['user_id'])\n",
    "new_participants = participants[(participants['ab_test'] == 'recommender_system_test') & (~participants['user_id'].isin(overlap_participants))]\n",
    "new_participants"
   ]
  },
  {
   "cell_type": "markdown",
   "id": "270c384c",
   "metadata": {},
   "source": [
    "**Observation**\n",
    "\n",
    "There are 887 participants that intersect between these 2 different test. The percentage difference where 24.14% from all the user ID for both test in total. Because the percentage difference is quite large, therefore computing the tests were obviously will not running correctly.\n",
    "\n",
    "Therefore, the intersect user ID will be removed "
   ]
  },
  {
   "cell_type": "markdown",
   "id": "33755555",
   "metadata": {},
   "source": [
    "## Check the participants region"
   ]
  },
  {
   "cell_type": "markdown",
   "id": "f10fb4d1",
   "metadata": {},
   "source": [
    "Lets check the participants regions"
   ]
  },
  {
   "cell_type": "code",
   "execution_count": 31,
   "id": "1b629d0e",
   "metadata": {},
   "outputs": [
    {
     "data": {
      "text/html": [
       "<div>\n",
       "<style scoped>\n",
       "    .dataframe tbody tr th:only-of-type {\n",
       "        vertical-align: middle;\n",
       "    }\n",
       "\n",
       "    .dataframe tbody tr th {\n",
       "        vertical-align: top;\n",
       "    }\n",
       "\n",
       "    .dataframe thead th {\n",
       "        text-align: right;\n",
       "    }\n",
       "</style>\n",
       "<table border=\"1\" class=\"dataframe\">\n",
       "  <thead>\n",
       "    <tr style=\"text-align: right;\">\n",
       "      <th></th>\n",
       "      <th>user_id</th>\n",
       "      <th>group</th>\n",
       "      <th>ab_test</th>\n",
       "    </tr>\n",
       "  </thead>\n",
       "  <tbody>\n",
       "    <tr>\n",
       "      <th>0</th>\n",
       "      <td>D1ABA3E2887B6A73</td>\n",
       "      <td>A</td>\n",
       "      <td>recommender_system_test</td>\n",
       "    </tr>\n",
       "    <tr>\n",
       "      <th>1</th>\n",
       "      <td>A7A3664BD6242119</td>\n",
       "      <td>A</td>\n",
       "      <td>recommender_system_test</td>\n",
       "    </tr>\n",
       "    <tr>\n",
       "      <th>4</th>\n",
       "      <td>4FF2998A348C484F</td>\n",
       "      <td>A</td>\n",
       "      <td>recommender_system_test</td>\n",
       "    </tr>\n",
       "    <tr>\n",
       "      <th>5</th>\n",
       "      <td>7473E0943673C09E</td>\n",
       "      <td>A</td>\n",
       "      <td>recommender_system_test</td>\n",
       "    </tr>\n",
       "    <tr>\n",
       "      <th>6</th>\n",
       "      <td>C46FE336D240A054</td>\n",
       "      <td>A</td>\n",
       "      <td>recommender_system_test</td>\n",
       "    </tr>\n",
       "    <tr>\n",
       "      <th>...</th>\n",
       "      <td>...</td>\n",
       "      <td>...</td>\n",
       "      <td>...</td>\n",
       "    </tr>\n",
       "    <tr>\n",
       "      <th>3670</th>\n",
       "      <td>053FB26D6D49EDDC</td>\n",
       "      <td>A</td>\n",
       "      <td>recommender_system_test</td>\n",
       "    </tr>\n",
       "    <tr>\n",
       "      <th>3671</th>\n",
       "      <td>9D263B8EF15CF188</td>\n",
       "      <td>B</td>\n",
       "      <td>recommender_system_test</td>\n",
       "    </tr>\n",
       "    <tr>\n",
       "      <th>3672</th>\n",
       "      <td>F2FBBA33F37DEC46</td>\n",
       "      <td>A</td>\n",
       "      <td>recommender_system_test</td>\n",
       "    </tr>\n",
       "    <tr>\n",
       "      <th>3673</th>\n",
       "      <td>29C92313A98B1176</td>\n",
       "      <td>B</td>\n",
       "      <td>recommender_system_test</td>\n",
       "    </tr>\n",
       "    <tr>\n",
       "      <th>3674</th>\n",
       "      <td>6715343AFBA285AE</td>\n",
       "      <td>B</td>\n",
       "      <td>recommender_system_test</td>\n",
       "    </tr>\n",
       "  </tbody>\n",
       "</table>\n",
       "<p>2788 rows × 3 columns</p>\n",
       "</div>"
      ],
      "text/plain": [
       "               user_id group                  ab_test\n",
       "0     D1ABA3E2887B6A73     A  recommender_system_test\n",
       "1     A7A3664BD6242119     A  recommender_system_test\n",
       "4     4FF2998A348C484F     A  recommender_system_test\n",
       "5     7473E0943673C09E     A  recommender_system_test\n",
       "6     C46FE336D240A054     A  recommender_system_test\n",
       "...                ...   ...                      ...\n",
       "3670  053FB26D6D49EDDC     A  recommender_system_test\n",
       "3671  9D263B8EF15CF188     B  recommender_system_test\n",
       "3672  F2FBBA33F37DEC46     A  recommender_system_test\n",
       "3673  29C92313A98B1176     B  recommender_system_test\n",
       "3674  6715343AFBA285AE     B  recommender_system_test\n",
       "\n",
       "[2788 rows x 3 columns]"
      ]
     },
     "execution_count": 31,
     "metadata": {},
     "output_type": "execute_result"
    }
   ],
   "source": [
    "new_participants"
   ]
  },
  {
   "cell_type": "code",
   "execution_count": 32,
   "id": "80b49e75",
   "metadata": {},
   "outputs": [
    {
     "data": {
      "text/html": [
       "<div>\n",
       "<style scoped>\n",
       "    .dataframe tbody tr th:only-of-type {\n",
       "        vertical-align: middle;\n",
       "    }\n",
       "\n",
       "    .dataframe tbody tr th {\n",
       "        vertical-align: top;\n",
       "    }\n",
       "\n",
       "    .dataframe thead th {\n",
       "        text-align: right;\n",
       "    }\n",
       "</style>\n",
       "<table border=\"1\" class=\"dataframe\">\n",
       "  <thead>\n",
       "    <tr style=\"text-align: right;\">\n",
       "      <th></th>\n",
       "      <th>count</th>\n",
       "      <th>%</th>\n",
       "    </tr>\n",
       "    <tr>\n",
       "      <th>region</th>\n",
       "      <th></th>\n",
       "      <th></th>\n",
       "    </tr>\n",
       "  </thead>\n",
       "  <tbody>\n",
       "    <tr>\n",
       "      <th>EU</th>\n",
       "      <td>2594</td>\n",
       "      <td>0.93</td>\n",
       "    </tr>\n",
       "    <tr>\n",
       "      <th>N.America</th>\n",
       "      <td>119</td>\n",
       "      <td>0.04</td>\n",
       "    </tr>\n",
       "    <tr>\n",
       "      <th>APAC</th>\n",
       "      <td>45</td>\n",
       "      <td>0.02</td>\n",
       "    </tr>\n",
       "    <tr>\n",
       "      <th>CIS</th>\n",
       "      <td>30</td>\n",
       "      <td>0.01</td>\n",
       "    </tr>\n",
       "  </tbody>\n",
       "</table>\n",
       "</div>"
      ],
      "text/plain": [
       "           count     %\n",
       "region                \n",
       "EU          2594  0.93\n",
       "N.America    119  0.04\n",
       "APAC          45  0.02\n",
       "CIS           30  0.01"
      ]
     },
     "execution_count": 32,
     "metadata": {},
     "output_type": "execute_result"
    }
   ],
   "source": [
    "users_test = ((users[users['user_id'].isin(list(new_participants['user_id']))])\n",
    "              .groupby('region').agg({'user_id':'count'})).sort_values('user_id',ascending=False)\n",
    "users_test['%'] = (users_test['user_id']/users_test['user_id'].sum()).round(2)\n",
    "users_test.columns = ['count','%']\n",
    "users_test"
   ]
  },
  {
   "cell_type": "markdown",
   "id": "9a2c24b0",
   "metadata": {},
   "source": [
    "**Observation**\n",
    "\n",
    "93% of the users are fom EU region. The 7% differ will be accepted."
   ]
  },
  {
   "cell_type": "markdown",
   "id": "1148ed7a",
   "metadata": {},
   "source": [
    "Now, lets check if the desired proportion for new users for ab test from the EU region is 15%. "
   ]
  },
  {
   "cell_type": "code",
   "execution_count": 33,
   "id": "1811cf99",
   "metadata": {},
   "outputs": [
    {
     "name": "stdout",
     "output_type": "stream",
     "text": [
      "Percentage for Desired Proportions : 6.43%\n"
     ]
    }
   ],
   "source": [
    "eu_test_users = users.query('region == \"EU\" and ab_test == \"recommender_system_test\" and user_id.isin(@new_participants.user_id)')\n",
    "eu_users =  users.query('region == \"EU\" and first_date >= \"2020-12-07\" and first_date <= \" 2020-12-21\"')\n",
    "proportion = (eu_test_users.shape[0])/(eu_users.shape[0])\n",
    "\n",
    "print (f'Percentage for Desired Proportions : {(proportion):.2%}')"
   ]
  },
  {
   "cell_type": "markdown",
   "id": "c3012b55",
   "metadata": {},
   "source": [
    "**Observation**\n",
    "\n",
    "The proportion is less that what desired proportion required. The different is 8.57 %. This deviation suggests that the test may not have effectively reached the intended number of new users from the EU region."
   ]
  },
  {
   "cell_type": "markdown",
   "id": "57c4fc87",
   "metadata": {},
   "source": [
    "## Summary\n",
    "\n",
    "Overall, the data seems to be wrong and not meets the requirement needed. The marketing was intersect with the test would may cause an intervention with the users data. The user ID that intersect with other test also make the test be bias and uncorrectly. The unachieved desired proportion maybe because acquiring new users from EU region can be challenging due to various factors. "
   ]
  },
  {
   "cell_type": "markdown",
   "id": "0b61d669",
   "metadata": {},
   "source": [
    "The data still have some general information to see the progress in the test. Yet, lets continued to analyze the to get more understanding and get more information in it without any changing the in the data. The users ID will be used not intersect with other test to prevent any outside influence from it.  "
   ]
  },
  {
   "cell_type": "markdown",
   "id": "906dca23",
   "metadata": {},
   "source": [
    "# EDA"
   ]
  },
  {
   "cell_type": "markdown",
   "id": "7a8bc97d",
   "metadata": {},
   "source": [
    "Lets filter all the data related"
   ]
  },
  {
   "cell_type": "code",
   "execution_count": 34,
   "id": "05897660",
   "metadata": {},
   "outputs": [
    {
     "data": {
      "text/html": [
       "<div>\n",
       "<style scoped>\n",
       "    .dataframe tbody tr th:only-of-type {\n",
       "        vertical-align: middle;\n",
       "    }\n",
       "\n",
       "    .dataframe tbody tr th {\n",
       "        vertical-align: top;\n",
       "    }\n",
       "\n",
       "    .dataframe thead th {\n",
       "        text-align: right;\n",
       "    }\n",
       "</style>\n",
       "<table border=\"1\" class=\"dataframe\">\n",
       "  <thead>\n",
       "    <tr style=\"text-align: right;\">\n",
       "      <th></th>\n",
       "      <th>user_id</th>\n",
       "      <th>first_date</th>\n",
       "      <th>event_dt</th>\n",
       "      <th>event_name</th>\n",
       "      <th>details</th>\n",
       "      <th>date</th>\n",
       "      <th>time</th>\n",
       "      <th>group</th>\n",
       "      <th>ab_test</th>\n",
       "    </tr>\n",
       "  </thead>\n",
       "  <tbody>\n",
       "    <tr>\n",
       "      <th>0</th>\n",
       "      <td>D72A72121175D8BE</td>\n",
       "      <td>2020-12-07</td>\n",
       "      <td>2020-12-07 21:52:10</td>\n",
       "      <td>product_page</td>\n",
       "      <td>0.00</td>\n",
       "      <td>2020-12-07</td>\n",
       "      <td>21:52:10</td>\n",
       "      <td>A</td>\n",
       "      <td>recommender_system_test</td>\n",
       "    </tr>\n",
       "    <tr>\n",
       "      <th>1</th>\n",
       "      <td>D72A72121175D8BE</td>\n",
       "      <td>2020-12-07</td>\n",
       "      <td>2020-12-07 21:52:07</td>\n",
       "      <td>login</td>\n",
       "      <td>0.00</td>\n",
       "      <td>2020-12-07</td>\n",
       "      <td>21:52:07</td>\n",
       "      <td>A</td>\n",
       "      <td>recommender_system_test</td>\n",
       "    </tr>\n",
       "    <tr>\n",
       "      <th>205</th>\n",
       "      <td>831887FE7F2D6CBA</td>\n",
       "      <td>2020-12-07</td>\n",
       "      <td>2020-12-07 06:50:29</td>\n",
       "      <td>purchase</td>\n",
       "      <td>4.99</td>\n",
       "      <td>2020-12-07</td>\n",
       "      <td>06:50:29</td>\n",
       "      <td>A</td>\n",
       "      <td>recommender_system_test</td>\n",
       "    </tr>\n",
       "    <tr>\n",
       "      <th>206</th>\n",
       "      <td>831887FE7F2D6CBA</td>\n",
       "      <td>2020-12-07</td>\n",
       "      <td>2020-12-09 02:19:17</td>\n",
       "      <td>purchase</td>\n",
       "      <td>99.99</td>\n",
       "      <td>2020-12-09</td>\n",
       "      <td>02:19:17</td>\n",
       "      <td>A</td>\n",
       "      <td>recommender_system_test</td>\n",
       "    </tr>\n",
       "    <tr>\n",
       "      <th>207</th>\n",
       "      <td>831887FE7F2D6CBA</td>\n",
       "      <td>2020-12-07</td>\n",
       "      <td>2020-12-07 06:50:30</td>\n",
       "      <td>product_cart</td>\n",
       "      <td>0.00</td>\n",
       "      <td>2020-12-07</td>\n",
       "      <td>06:50:30</td>\n",
       "      <td>A</td>\n",
       "      <td>recommender_system_test</td>\n",
       "    </tr>\n",
       "    <tr>\n",
       "      <th>...</th>\n",
       "      <td>...</td>\n",
       "      <td>...</td>\n",
       "      <td>...</td>\n",
       "      <td>...</td>\n",
       "      <td>...</td>\n",
       "      <td>...</td>\n",
       "      <td>...</td>\n",
       "      <td>...</td>\n",
       "      <td>...</td>\n",
       "    </tr>\n",
       "    <tr>\n",
       "      <th>440771</th>\n",
       "      <td>0416B34D35C8C8B8</td>\n",
       "      <td>2020-12-20</td>\n",
       "      <td>2020-12-21 22:28:29</td>\n",
       "      <td>product_page</td>\n",
       "      <td>0.00</td>\n",
       "      <td>2020-12-21</td>\n",
       "      <td>22:28:29</td>\n",
       "      <td>A</td>\n",
       "      <td>recommender_system_test</td>\n",
       "    </tr>\n",
       "    <tr>\n",
       "      <th>440772</th>\n",
       "      <td>0416B34D35C8C8B8</td>\n",
       "      <td>2020-12-20</td>\n",
       "      <td>2020-12-24 09:12:51</td>\n",
       "      <td>product_page</td>\n",
       "      <td>0.00</td>\n",
       "      <td>2020-12-24</td>\n",
       "      <td>09:12:51</td>\n",
       "      <td>A</td>\n",
       "      <td>recommender_system_test</td>\n",
       "    </tr>\n",
       "    <tr>\n",
       "      <th>440773</th>\n",
       "      <td>0416B34D35C8C8B8</td>\n",
       "      <td>2020-12-20</td>\n",
       "      <td>2020-12-20 20:58:25</td>\n",
       "      <td>login</td>\n",
       "      <td>0.00</td>\n",
       "      <td>2020-12-20</td>\n",
       "      <td>20:58:25</td>\n",
       "      <td>A</td>\n",
       "      <td>recommender_system_test</td>\n",
       "    </tr>\n",
       "    <tr>\n",
       "      <th>440774</th>\n",
       "      <td>0416B34D35C8C8B8</td>\n",
       "      <td>2020-12-20</td>\n",
       "      <td>2020-12-21 22:28:29</td>\n",
       "      <td>login</td>\n",
       "      <td>0.00</td>\n",
       "      <td>2020-12-21</td>\n",
       "      <td>22:28:29</td>\n",
       "      <td>A</td>\n",
       "      <td>recommender_system_test</td>\n",
       "    </tr>\n",
       "    <tr>\n",
       "      <th>440775</th>\n",
       "      <td>0416B34D35C8C8B8</td>\n",
       "      <td>2020-12-20</td>\n",
       "      <td>2020-12-24 09:12:49</td>\n",
       "      <td>login</td>\n",
       "      <td>0.00</td>\n",
       "      <td>2020-12-24</td>\n",
       "      <td>09:12:49</td>\n",
       "      <td>A</td>\n",
       "      <td>recommender_system_test</td>\n",
       "    </tr>\n",
       "  </tbody>\n",
       "</table>\n",
       "<p>17786 rows × 9 columns</p>\n",
       "</div>"
      ],
      "text/plain": [
       "                 user_id first_date            event_dt    event_name  \\\n",
       "0       D72A72121175D8BE 2020-12-07 2020-12-07 21:52:10  product_page   \n",
       "1       D72A72121175D8BE 2020-12-07 2020-12-07 21:52:07         login   \n",
       "205     831887FE7F2D6CBA 2020-12-07 2020-12-07 06:50:29      purchase   \n",
       "206     831887FE7F2D6CBA 2020-12-07 2020-12-09 02:19:17      purchase   \n",
       "207     831887FE7F2D6CBA 2020-12-07 2020-12-07 06:50:30  product_cart   \n",
       "...                  ...        ...                 ...           ...   \n",
       "440771  0416B34D35C8C8B8 2020-12-20 2020-12-21 22:28:29  product_page   \n",
       "440772  0416B34D35C8C8B8 2020-12-20 2020-12-24 09:12:51  product_page   \n",
       "440773  0416B34D35C8C8B8 2020-12-20 2020-12-20 20:58:25         login   \n",
       "440774  0416B34D35C8C8B8 2020-12-20 2020-12-21 22:28:29         login   \n",
       "440775  0416B34D35C8C8B8 2020-12-20 2020-12-24 09:12:49         login   \n",
       "\n",
       "        details       date      time group                  ab_test  \n",
       "0          0.00 2020-12-07  21:52:10     A  recommender_system_test  \n",
       "1          0.00 2020-12-07  21:52:07     A  recommender_system_test  \n",
       "205        4.99 2020-12-07  06:50:29     A  recommender_system_test  \n",
       "206       99.99 2020-12-09  02:19:17     A  recommender_system_test  \n",
       "207        0.00 2020-12-07  06:50:30     A  recommender_system_test  \n",
       "...         ...        ...       ...   ...                      ...  \n",
       "440771     0.00 2020-12-21  22:28:29     A  recommender_system_test  \n",
       "440772     0.00 2020-12-24  09:12:51     A  recommender_system_test  \n",
       "440773     0.00 2020-12-20  20:58:25     A  recommender_system_test  \n",
       "440774     0.00 2020-12-21  22:28:29     A  recommender_system_test  \n",
       "440775     0.00 2020-12-24  09:12:49     A  recommender_system_test  \n",
       "\n",
       "[17786 rows x 9 columns]"
      ]
     },
     "execution_count": 34,
     "metadata": {},
     "output_type": "execute_result"
    }
   ],
   "source": [
    "new_events = pd.merge(users[['user_id','first_date']],events, on='user_id',how='outer')\n",
    "events_test = new_events[(new_events['date'] <= (new_events['first_date'] + pd.DateOffset(days=14))) & (new_events['ab_test'] == 'recommender_system_test')]\n",
    "events_test = events_test[events_test['user_id'].isin(new_participants['user_id']) ]\n",
    "events_test"
   ]
  },
  {
   "cell_type": "code",
   "execution_count": 35,
   "id": "361933fb",
   "metadata": {},
   "outputs": [
    {
     "data": {
      "text/plain": [
       "user_id       0\n",
       "first_date    0\n",
       "event_dt      0\n",
       "event_name    0\n",
       "details       0\n",
       "date          0\n",
       "time          0\n",
       "group         0\n",
       "ab_test       0\n",
       "dtype: int64"
      ]
     },
     "execution_count": 35,
     "metadata": {},
     "output_type": "execute_result"
    }
   ],
   "source": [
    "events_test.isna().sum()"
   ]
  },
  {
   "cell_type": "code",
   "execution_count": 36,
   "id": "a762cd01",
   "metadata": {},
   "outputs": [],
   "source": [
    "test_dates = pd.date_range(start = '2020-12-07', periods = 15)\n",
    "\n",
    "cumulative_test_users = pd.DataFrame(columns = ['A', 'B'])\n",
    "cumulative_login = pd.DataFrame(columns = ['A', 'B'])\n",
    "cumulative_product_page = pd.DataFrame(columns = ['A', 'B'])\n",
    "cumulative_product_cart = pd.DataFrame(columns = ['A', 'B'])\n",
    "cumulative_purchase = pd.DataFrame(columns = ['A', 'B'])\n",
    "\n",
    "for i, dt in enumerate(test_dates):\n",
    "\n",
    "    #Test participants\n",
    "    current_test_users = events_test.query('first_date <= @dt').groupby('group').agg({'user_id': 'nunique'}).T\n",
    "    current_test_users['date'] = dt\n",
    "    current_test_users['test_day'] = i\n",
    "    cumulative_test_users = cumulative_test_users.append(current_test_users, sort = False)\n",
    "\n",
    "    # Login\n",
    "    current_login = events_test.query('event_name == \"login\" and event_dt <= @dt').groupby('group').agg({'user_id': 'nunique'}).T\n",
    "    current_login['date'] = dt\n",
    "    current_login['test_day'] = i\n",
    "    cumulative_login = cumulative_login.append(current_login, sort=False)\n",
    "    cumulative_login.reset_index(drop=True, inplace=True)\n",
    "    \n",
    "    # Product Page\n",
    "    current_test_page = events_test.query('event_name == \"product_page\" and event_dt <= @dt').groupby('group').agg({'user_id': 'nunique'}).T\n",
    "    current_test_page['date'] = dt\n",
    "    current_test_page['test_day'] = i\n",
    "    cumulative_product_page = cumulative_product_page.append(current_test_page, sort=False)\n",
    "    cumulative_product_page.reset_index(drop=True, inplace=True)\n",
    "    \n",
    "    # Product Cart\n",
    "    current_product_cart = events_test.query('event_name == \"product_cart\" and event_dt <= @dt').groupby('group').agg({'user_id': 'nunique'}).T\n",
    "    current_product_cart['date'] = dt\n",
    "    current_product_cart['test_day'] = i\n",
    "    cumulative_product_cart = cumulative_product_cart.append(current_product_cart, sort=False)\n",
    "    cumulative_product_cart.reset_index(drop=True, inplace=True)\n",
    "\n",
    "    # Purchase\n",
    "    current_purchase = events_test.query('event_name == \"purchase\" and event_dt <= @dt').groupby('group').agg({'user_id': 'nunique'}).T\n",
    "    current_purchase['date'] = dt\n",
    "    current_purchase['test_day'] = i\n",
    "    cumulative_purchase = cumulative_purchase.append(current_purchase, sort=False)\n",
    "    cumulative_purchase.reset_index(drop=True, inplace=True)"
   ]
  },
  {
   "cell_type": "markdown",
   "id": "1c21a945",
   "metadata": {},
   "source": [
    "## Cumulative New Users "
   ]
  },
  {
   "cell_type": "markdown",
   "id": "27d875cf",
   "metadata": {},
   "source": [
    "Cumulative new users by date"
   ]
  },
  {
   "cell_type": "code",
   "execution_count": 37,
   "id": "c361ccbb",
   "metadata": {
    "ExecuteTime": {
     "end_time": "2023-06-04T17:11:59.096968Z",
     "start_time": "2023-06-04T17:11:59.076211Z"
    }
   },
   "outputs": [
    {
     "data": {
      "text/html": [
       "<div>\n",
       "<style scoped>\n",
       "    .dataframe tbody tr th:only-of-type {\n",
       "        vertical-align: middle;\n",
       "    }\n",
       "\n",
       "    .dataframe tbody tr th {\n",
       "        vertical-align: top;\n",
       "    }\n",
       "\n",
       "    .dataframe thead th {\n",
       "        text-align: right;\n",
       "    }\n",
       "</style>\n",
       "<table border=\"1\" class=\"dataframe\">\n",
       "  <thead>\n",
       "    <tr style=\"text-align: right;\">\n",
       "      <th></th>\n",
       "      <th>A</th>\n",
       "      <th>B</th>\n",
       "      <th>date</th>\n",
       "      <th>test_day</th>\n",
       "    </tr>\n",
       "  </thead>\n",
       "  <tbody>\n",
       "    <tr>\n",
       "      <th>user_id</th>\n",
       "      <td>118</td>\n",
       "      <td>136</td>\n",
       "      <td>2020-12-07</td>\n",
       "      <td>0.0</td>\n",
       "    </tr>\n",
       "    <tr>\n",
       "      <th>user_id</th>\n",
       "      <td>191</td>\n",
       "      <td>169</td>\n",
       "      <td>2020-12-08</td>\n",
       "      <td>1.0</td>\n",
       "    </tr>\n",
       "    <tr>\n",
       "      <th>user_id</th>\n",
       "      <td>248</td>\n",
       "      <td>228</td>\n",
       "      <td>2020-12-09</td>\n",
       "      <td>2.0</td>\n",
       "    </tr>\n",
       "    <tr>\n",
       "      <th>user_id</th>\n",
       "      <td>299</td>\n",
       "      <td>257</td>\n",
       "      <td>2020-12-10</td>\n",
       "      <td>3.0</td>\n",
       "    </tr>\n",
       "    <tr>\n",
       "      <th>user_id</th>\n",
       "      <td>373</td>\n",
       "      <td>272</td>\n",
       "      <td>2020-12-11</td>\n",
       "      <td>4.0</td>\n",
       "    </tr>\n",
       "    <tr>\n",
       "      <th>user_id</th>\n",
       "      <td>420</td>\n",
       "      <td>313</td>\n",
       "      <td>2020-12-12</td>\n",
       "      <td>5.0</td>\n",
       "    </tr>\n",
       "    <tr>\n",
       "      <th>user_id</th>\n",
       "      <td>464</td>\n",
       "      <td>325</td>\n",
       "      <td>2020-12-13</td>\n",
       "      <td>6.0</td>\n",
       "    </tr>\n",
       "    <tr>\n",
       "      <th>user_id</th>\n",
       "      <td>756</td>\n",
       "      <td>384</td>\n",
       "      <td>2020-12-14</td>\n",
       "      <td>7.0</td>\n",
       "    </tr>\n",
       "    <tr>\n",
       "      <th>user_id</th>\n",
       "      <td>907</td>\n",
       "      <td>407</td>\n",
       "      <td>2020-12-15</td>\n",
       "      <td>8.0</td>\n",
       "    </tr>\n",
       "    <tr>\n",
       "      <th>user_id</th>\n",
       "      <td>1041</td>\n",
       "      <td>482</td>\n",
       "      <td>2020-12-16</td>\n",
       "      <td>9.0</td>\n",
       "    </tr>\n",
       "    <tr>\n",
       "      <th>user_id</th>\n",
       "      <td>1197</td>\n",
       "      <td>511</td>\n",
       "      <td>2020-12-17</td>\n",
       "      <td>10.0</td>\n",
       "    </tr>\n",
       "    <tr>\n",
       "      <th>user_id</th>\n",
       "      <td>1359</td>\n",
       "      <td>554</td>\n",
       "      <td>2020-12-18</td>\n",
       "      <td>11.0</td>\n",
       "    </tr>\n",
       "    <tr>\n",
       "      <th>user_id</th>\n",
       "      <td>1554</td>\n",
       "      <td>588</td>\n",
       "      <td>2020-12-19</td>\n",
       "      <td>12.0</td>\n",
       "    </tr>\n",
       "    <tr>\n",
       "      <th>user_id</th>\n",
       "      <td>1775</td>\n",
       "      <td>634</td>\n",
       "      <td>2020-12-20</td>\n",
       "      <td>13.0</td>\n",
       "    </tr>\n",
       "    <tr>\n",
       "      <th>user_id</th>\n",
       "      <td>2082</td>\n",
       "      <td>706</td>\n",
       "      <td>2020-12-21</td>\n",
       "      <td>14.0</td>\n",
       "    </tr>\n",
       "  </tbody>\n",
       "</table>\n",
       "</div>"
      ],
      "text/plain": [
       "            A    B       date  test_day\n",
       "user_id   118  136 2020-12-07       0.0\n",
       "user_id   191  169 2020-12-08       1.0\n",
       "user_id   248  228 2020-12-09       2.0\n",
       "user_id   299  257 2020-12-10       3.0\n",
       "user_id   373  272 2020-12-11       4.0\n",
       "user_id   420  313 2020-12-12       5.0\n",
       "user_id   464  325 2020-12-13       6.0\n",
       "user_id   756  384 2020-12-14       7.0\n",
       "user_id   907  407 2020-12-15       8.0\n",
       "user_id  1041  482 2020-12-16       9.0\n",
       "user_id  1197  511 2020-12-17      10.0\n",
       "user_id  1359  554 2020-12-18      11.0\n",
       "user_id  1554  588 2020-12-19      12.0\n",
       "user_id  1775  634 2020-12-20      13.0\n",
       "user_id  2082  706 2020-12-21      14.0"
      ]
     },
     "execution_count": 37,
     "metadata": {},
     "output_type": "execute_result"
    }
   ],
   "source": [
    "cumulative_test_users"
   ]
  },
  {
   "cell_type": "code",
   "execution_count": 38,
   "id": "c8332b96",
   "metadata": {
    "ExecuteTime": {
     "end_time": "2023-06-04T17:11:59.288656Z",
     "start_time": "2023-06-04T17:11:59.098053Z"
    }
   },
   "outputs": [
    {
     "data": {
      "image/png": "[encoded data removed]",
      "text/plain": [
       "<Figure size 504x288 with 1 Axes>"
      ]
     },
     "metadata": {
      "needs_background": "light"
     },
     "output_type": "display_data"
    }
   ],
   "source": [
    "# Create the line plot\n",
    "plt.figure(figsize=(7, 4))\n",
    "plt.plot(cumulative_test_users['test_day'], cumulative_test_users['A'], label='Cumulative A')\n",
    "plt.plot(cumulative_test_users['test_day'], cumulative_test_users['B'], label='Cumulative B')\n",
    "plt.plot(cumulative_test_users['test_day'], (cumulative_test_users['A'] + cumulative_test_users['B']), label='Cumulative Total')\n",
    "plt.axhline(y = 6000, label = 'Expected participants', color = 'red', linestyle = '--')\n",
    "\n",
    "plt.xlabel('Test Days')\n",
    "plt.xticks(rotation = 45)\n",
    "plt.ylabel('Participants')\n",
    "plt.title('Number of Test participants per Day')\n",
    "plt.grid(True)\n",
    "plt.legend()\n",
    "plt.show()"
   ]
  },
  {
   "cell_type": "markdown",
   "id": "7a389633",
   "metadata": {},
   "source": [
    "**Observation**\n",
    "\n",
    "1.  The cumulative number of participants in Group A and Group B increases steadily over time, reaching a total of 2082 and 706 participants. However, Group A are more exponentially increased either than Group B. The cumulative participant count for Group A is much higher than Group B. This suggest that Group A had a larger number of participants overall.\n",
    "\n",
    "2. We can see the cumulative  number of participants overall reached only 2788, where more less than the expected number of participants which is 6000. This suggest that the test need to give more time to reached the expected number in EU region before doing the test. \n",
    "\n",
    "Overall, based on the provided data, Group A had a higher cumulative participant count compared to Group B and the total number of participants falls short of the expected value of 6000. Therefore, the data are not meets the requirement needed."
   ]
  },
  {
   "cell_type": "markdown",
   "id": "13730480",
   "metadata": {},
   "source": [
    "## Cumulative in Login Events"
   ]
  },
  {
   "cell_type": "code",
   "execution_count": 39,
   "id": "b218b02c",
   "metadata": {},
   "outputs": [
    {
     "data": {
      "text/html": [
       "<div>\n",
       "<style scoped>\n",
       "    .dataframe tbody tr th:only-of-type {\n",
       "        vertical-align: middle;\n",
       "    }\n",
       "\n",
       "    .dataframe tbody tr th {\n",
       "        vertical-align: top;\n",
       "    }\n",
       "\n",
       "    .dataframe thead th {\n",
       "        text-align: right;\n",
       "    }\n",
       "</style>\n",
       "<table border=\"1\" class=\"dataframe\">\n",
       "  <thead>\n",
       "    <tr style=\"text-align: right;\">\n",
       "      <th></th>\n",
       "      <th>A</th>\n",
       "      <th>B</th>\n",
       "      <th>date</th>\n",
       "      <th>test_day</th>\n",
       "    </tr>\n",
       "  </thead>\n",
       "  <tbody>\n",
       "    <tr>\n",
       "      <th>0</th>\n",
       "      <td>NaN</td>\n",
       "      <td>NaN</td>\n",
       "      <td>2020-12-07</td>\n",
       "      <td>0.0</td>\n",
       "    </tr>\n",
       "    <tr>\n",
       "      <th>1</th>\n",
       "      <td>109</td>\n",
       "      <td>124</td>\n",
       "      <td>2020-12-08</td>\n",
       "      <td>1.0</td>\n",
       "    </tr>\n",
       "    <tr>\n",
       "      <th>2</th>\n",
       "      <td>186</td>\n",
       "      <td>162</td>\n",
       "      <td>2020-12-09</td>\n",
       "      <td>2.0</td>\n",
       "    </tr>\n",
       "    <tr>\n",
       "      <th>3</th>\n",
       "      <td>245</td>\n",
       "      <td>223</td>\n",
       "      <td>2020-12-10</td>\n",
       "      <td>3.0</td>\n",
       "    </tr>\n",
       "    <tr>\n",
       "      <th>4</th>\n",
       "      <td>297</td>\n",
       "      <td>253</td>\n",
       "      <td>2020-12-11</td>\n",
       "      <td>4.0</td>\n",
       "    </tr>\n",
       "    <tr>\n",
       "      <th>5</th>\n",
       "      <td>372</td>\n",
       "      <td>268</td>\n",
       "      <td>2020-12-12</td>\n",
       "      <td>5.0</td>\n",
       "    </tr>\n",
       "    <tr>\n",
       "      <th>6</th>\n",
       "      <td>420</td>\n",
       "      <td>309</td>\n",
       "      <td>2020-12-13</td>\n",
       "      <td>6.0</td>\n",
       "    </tr>\n",
       "    <tr>\n",
       "      <th>7</th>\n",
       "      <td>464</td>\n",
       "      <td>323</td>\n",
       "      <td>2020-12-14</td>\n",
       "      <td>7.0</td>\n",
       "    </tr>\n",
       "    <tr>\n",
       "      <th>8</th>\n",
       "      <td>756</td>\n",
       "      <td>382</td>\n",
       "      <td>2020-12-15</td>\n",
       "      <td>8.0</td>\n",
       "    </tr>\n",
       "    <tr>\n",
       "      <th>9</th>\n",
       "      <td>907</td>\n",
       "      <td>406</td>\n",
       "      <td>2020-12-16</td>\n",
       "      <td>9.0</td>\n",
       "    </tr>\n",
       "    <tr>\n",
       "      <th>10</th>\n",
       "      <td>1041</td>\n",
       "      <td>481</td>\n",
       "      <td>2020-12-17</td>\n",
       "      <td>10.0</td>\n",
       "    </tr>\n",
       "    <tr>\n",
       "      <th>11</th>\n",
       "      <td>1197</td>\n",
       "      <td>510</td>\n",
       "      <td>2020-12-18</td>\n",
       "      <td>11.0</td>\n",
       "    </tr>\n",
       "    <tr>\n",
       "      <th>12</th>\n",
       "      <td>1359</td>\n",
       "      <td>553</td>\n",
       "      <td>2020-12-19</td>\n",
       "      <td>12.0</td>\n",
       "    </tr>\n",
       "    <tr>\n",
       "      <th>13</th>\n",
       "      <td>1554</td>\n",
       "      <td>587</td>\n",
       "      <td>2020-12-20</td>\n",
       "      <td>13.0</td>\n",
       "    </tr>\n",
       "    <tr>\n",
       "      <th>14</th>\n",
       "      <td>1775</td>\n",
       "      <td>633</td>\n",
       "      <td>2020-12-21</td>\n",
       "      <td>14.0</td>\n",
       "    </tr>\n",
       "  </tbody>\n",
       "</table>\n",
       "</div>"
      ],
      "text/plain": [
       "       A    B       date  test_day\n",
       "0    NaN  NaN 2020-12-07       0.0\n",
       "1    109  124 2020-12-08       1.0\n",
       "2    186  162 2020-12-09       2.0\n",
       "3    245  223 2020-12-10       3.0\n",
       "4    297  253 2020-12-11       4.0\n",
       "5    372  268 2020-12-12       5.0\n",
       "6    420  309 2020-12-13       6.0\n",
       "7    464  323 2020-12-14       7.0\n",
       "8    756  382 2020-12-15       8.0\n",
       "9    907  406 2020-12-16       9.0\n",
       "10  1041  481 2020-12-17      10.0\n",
       "11  1197  510 2020-12-18      11.0\n",
       "12  1359  553 2020-12-19      12.0\n",
       "13  1554  587 2020-12-20      13.0\n",
       "14  1775  633 2020-12-21      14.0"
      ]
     },
     "execution_count": 39,
     "metadata": {},
     "output_type": "execute_result"
    }
   ],
   "source": [
    "cumulative_login"
   ]
  },
  {
   "cell_type": "code",
   "execution_count": 40,
   "id": "edd72d08",
   "metadata": {
    "ExecuteTime": {
     "end_time": "2023-06-04T17:11:59.461625Z",
     "start_time": "2023-06-04T17:11:59.305633Z"
    }
   },
   "outputs": [
    {
     "data": {
      "image/png": "[encoded data removed]",
      "text/plain": [
       "<Figure size 504x288 with 1 Axes>"
      ]
     },
     "metadata": {
      "needs_background": "light"
     },
     "output_type": "display_data"
    }
   ],
   "source": [
    "# Create the line plot\n",
    "plt.figure(figsize=(7, 4))\n",
    "plt.plot(cumulative_login['test_day'], cumulative_login['A'], label='Cumulative A')\n",
    "plt.plot(cumulative_login['test_day'], cumulative_login['B'], label='Cumulative B')\n",
    "\n",
    "plt.xlabel('Test Days')\n",
    "plt.ylabel('Participants')\n",
    "plt.title('Number of Login Events Participants per Day')\n",
    "plt.grid(True)\n",
    "plt.legend()\n",
    "plt.show()"
   ]
  },
  {
   "cell_type": "markdown",
   "id": "f065a703",
   "metadata": {},
   "source": [
    "**Observation** \n",
    "\n",
    "The graph show the number of participant who login for the first time by date. We can see that the exponentially increased in Group A is a prove that it is more effective to get new users to login compared with Group B. Overall, Group A can be expected to get more participants rather than Group B if the test were given more time in future."
   ]
  },
  {
   "cell_type": "markdown",
   "id": "0fc0eb9d",
   "metadata": {},
   "source": [
    "## Conversion in Product Page"
   ]
  },
  {
   "cell_type": "code",
   "execution_count": 41,
   "id": "11a8c9f2",
   "metadata": {
    "ExecuteTime": {
     "end_time": "2023-06-04T17:11:59.485068Z",
     "start_time": "2023-06-04T17:11:59.462625Z"
    }
   },
   "outputs": [
    {
     "data": {
      "text/html": [
       "<div>\n",
       "<style scoped>\n",
       "    .dataframe tbody tr th:only-of-type {\n",
       "        vertical-align: middle;\n",
       "    }\n",
       "\n",
       "    .dataframe tbody tr th {\n",
       "        vertical-align: top;\n",
       "    }\n",
       "\n",
       "    .dataframe thead th {\n",
       "        text-align: right;\n",
       "    }\n",
       "</style>\n",
       "<table border=\"1\" class=\"dataframe\">\n",
       "  <thead>\n",
       "    <tr style=\"text-align: right;\">\n",
       "      <th></th>\n",
       "      <th>A</th>\n",
       "      <th>B</th>\n",
       "      <th>date</th>\n",
       "      <th>test_day</th>\n",
       "      <th>Conversion_A</th>\n",
       "      <th>Conversion_B</th>\n",
       "    </tr>\n",
       "  </thead>\n",
       "  <tbody>\n",
       "    <tr>\n",
       "      <th>0</th>\n",
       "      <td>NaN</td>\n",
       "      <td>NaN</td>\n",
       "      <td>2020-12-07</td>\n",
       "      <td>0.0</td>\n",
       "      <td>NaN</td>\n",
       "      <td>NaN</td>\n",
       "    </tr>\n",
       "    <tr>\n",
       "      <th>1</th>\n",
       "      <td>70</td>\n",
       "      <td>83</td>\n",
       "      <td>2020-12-08</td>\n",
       "      <td>1.0</td>\n",
       "      <td>0.642202</td>\n",
       "      <td>0.669355</td>\n",
       "    </tr>\n",
       "    <tr>\n",
       "      <th>2</th>\n",
       "      <td>124</td>\n",
       "      <td>98</td>\n",
       "      <td>2020-12-09</td>\n",
       "      <td>2.0</td>\n",
       "      <td>0.666667</td>\n",
       "      <td>0.604938</td>\n",
       "    </tr>\n",
       "    <tr>\n",
       "      <th>3</th>\n",
       "      <td>158</td>\n",
       "      <td>135</td>\n",
       "      <td>2020-12-10</td>\n",
       "      <td>3.0</td>\n",
       "      <td>0.644898</td>\n",
       "      <td>0.605381</td>\n",
       "    </tr>\n",
       "    <tr>\n",
       "      <th>4</th>\n",
       "      <td>186</td>\n",
       "      <td>146</td>\n",
       "      <td>2020-12-11</td>\n",
       "      <td>4.0</td>\n",
       "      <td>0.626263</td>\n",
       "      <td>0.577075</td>\n",
       "    </tr>\n",
       "    <tr>\n",
       "      <th>5</th>\n",
       "      <td>227</td>\n",
       "      <td>153</td>\n",
       "      <td>2020-12-12</td>\n",
       "      <td>5.0</td>\n",
       "      <td>0.610215</td>\n",
       "      <td>0.570896</td>\n",
       "    </tr>\n",
       "    <tr>\n",
       "      <th>6</th>\n",
       "      <td>256</td>\n",
       "      <td>174</td>\n",
       "      <td>2020-12-13</td>\n",
       "      <td>6.0</td>\n",
       "      <td>0.609524</td>\n",
       "      <td>0.563107</td>\n",
       "    </tr>\n",
       "    <tr>\n",
       "      <th>7</th>\n",
       "      <td>282</td>\n",
       "      <td>179</td>\n",
       "      <td>2020-12-14</td>\n",
       "      <td>7.0</td>\n",
       "      <td>0.607759</td>\n",
       "      <td>0.55418</td>\n",
       "    </tr>\n",
       "    <tr>\n",
       "      <th>8</th>\n",
       "      <td>485</td>\n",
       "      <td>210</td>\n",
       "      <td>2020-12-15</td>\n",
       "      <td>8.0</td>\n",
       "      <td>0.641534</td>\n",
       "      <td>0.549738</td>\n",
       "    </tr>\n",
       "    <tr>\n",
       "      <th>9</th>\n",
       "      <td>587</td>\n",
       "      <td>221</td>\n",
       "      <td>2020-12-16</td>\n",
       "      <td>9.0</td>\n",
       "      <td>0.647189</td>\n",
       "      <td>0.544335</td>\n",
       "    </tr>\n",
       "    <tr>\n",
       "      <th>10</th>\n",
       "      <td>674</td>\n",
       "      <td>273</td>\n",
       "      <td>2020-12-17</td>\n",
       "      <td>10.0</td>\n",
       "      <td>0.647454</td>\n",
       "      <td>0.567568</td>\n",
       "    </tr>\n",
       "    <tr>\n",
       "      <th>11</th>\n",
       "      <td>779</td>\n",
       "      <td>286</td>\n",
       "      <td>2020-12-18</td>\n",
       "      <td>11.0</td>\n",
       "      <td>0.650794</td>\n",
       "      <td>0.560784</td>\n",
       "    </tr>\n",
       "    <tr>\n",
       "      <th>12</th>\n",
       "      <td>891</td>\n",
       "      <td>306</td>\n",
       "      <td>2020-12-19</td>\n",
       "      <td>12.0</td>\n",
       "      <td>0.655629</td>\n",
       "      <td>0.553345</td>\n",
       "    </tr>\n",
       "    <tr>\n",
       "      <th>13</th>\n",
       "      <td>1015</td>\n",
       "      <td>326</td>\n",
       "      <td>2020-12-20</td>\n",
       "      <td>13.0</td>\n",
       "      <td>0.653153</td>\n",
       "      <td>0.555366</td>\n",
       "    </tr>\n",
       "    <tr>\n",
       "      <th>14</th>\n",
       "      <td>1156</td>\n",
       "      <td>354</td>\n",
       "      <td>2020-12-21</td>\n",
       "      <td>14.0</td>\n",
       "      <td>0.651268</td>\n",
       "      <td>0.559242</td>\n",
       "    </tr>\n",
       "  </tbody>\n",
       "</table>\n",
       "</div>"
      ],
      "text/plain": [
       "       A    B       date  test_day Conversion_A Conversion_B\n",
       "0    NaN  NaN 2020-12-07       0.0          NaN          NaN\n",
       "1     70   83 2020-12-08       1.0     0.642202     0.669355\n",
       "2    124   98 2020-12-09       2.0     0.666667     0.604938\n",
       "3    158  135 2020-12-10       3.0     0.644898     0.605381\n",
       "4    186  146 2020-12-11       4.0     0.626263     0.577075\n",
       "5    227  153 2020-12-12       5.0     0.610215     0.570896\n",
       "6    256  174 2020-12-13       6.0     0.609524     0.563107\n",
       "7    282  179 2020-12-14       7.0     0.607759      0.55418\n",
       "8    485  210 2020-12-15       8.0     0.641534     0.549738\n",
       "9    587  221 2020-12-16       9.0     0.647189     0.544335\n",
       "10   674  273 2020-12-17      10.0     0.647454     0.567568\n",
       "11   779  286 2020-12-18      11.0     0.650794     0.560784\n",
       "12   891  306 2020-12-19      12.0     0.655629     0.553345\n",
       "13  1015  326 2020-12-20      13.0     0.653153     0.555366\n",
       "14  1156  354 2020-12-21      14.0     0.651268     0.559242"
      ]
     },
     "execution_count": 41,
     "metadata": {},
     "output_type": "execute_result"
    }
   ],
   "source": [
    "cumulative_product_page['Conversion_A'] =cumulative_product_page['A']/cumulative_login['A']\n",
    "cumulative_product_page['Conversion_B'] =cumulative_product_page['B']/cumulative_login['B']\n",
    "cumulative_product_page"
   ]
  },
  {
   "cell_type": "code",
   "execution_count": 42,
   "id": "e6e521d8",
   "metadata": {
    "ExecuteTime": {
     "end_time": "2023-06-04T17:11:59.649235Z",
     "start_time": "2023-06-04T17:11:59.486068Z"
    }
   },
   "outputs": [
    {
     "data": {
      "image/png": "[encoded data removed]",
      "text/plain": [
       "<Figure size 504x288 with 1 Axes>"
      ]
     },
     "metadata": {
      "needs_background": "light"
     },
     "output_type": "display_data"
    }
   ],
   "source": [
    "# Create the line plot\n",
    "plt.figure(figsize=(7, 4))\n",
    "plt.plot(cumulative_product_page['test_day'], cumulative_product_page['A'], label='Cumulative A')\n",
    "plt.plot(cumulative_product_page['test_day'], cumulative_product_page['B'], label='Cumulative B')\n",
    "\n",
    "plt.xlabel('Test Days')\n",
    "plt.ylabel('Participants')\n",
    "plt.title('Cumulative Product Page Events Participants per Day')\n",
    "plt.grid(True)\n",
    "plt.legend()\n",
    "plt.show()"
   ]
  },
  {
   "cell_type": "code",
   "execution_count": 43,
   "id": "6bde892c",
   "metadata": {
    "ExecuteTime": {
     "end_time": "2023-06-04T17:11:59.807357Z",
     "start_time": "2023-06-04T17:11:59.650235Z"
    }
   },
   "outputs": [
    {
     "data": {
      "image/png": "[encoded data removed]",
      "text/plain": [
       "<Figure size 504x288 with 1 Axes>"
      ]
     },
     "metadata": {
      "needs_background": "light"
     },
     "output_type": "display_data"
    }
   ],
   "source": [
    "# Create the line plot\n",
    "plt.figure(figsize=(7, 4))\n",
    "plt.plot(cumulative_product_page['test_day'], cumulative_product_page['Conversion_A'], label='Conversion A')\n",
    "plt.plot(cumulative_product_page['test_day'], cumulative_product_page['Conversion_B'], label='Conversion B')\n",
    "\n",
    "plt.xlabel('Date')\n",
    "plt.ylabel('Conversion')\n",
    "plt.title('Conversion Product Page Events Participants per Day')\n",
    "plt.grid(True)\n",
    "plt.legend()\n",
    "plt.show()"
   ]
  },
  {
   "cell_type": "markdown",
   "id": "b055f4ec",
   "metadata": {},
   "source": [
    "**Observation**\n",
    "\n",
    "The first graph show the number of participant who visits product page for the first time by date. We can see that the exponentially increased in Group A is a prove that it is more effective to attract participant to visit product page compared with Group B. \n",
    "\n",
    "The second graph show the conversion of participant who visits the product page from the login events. We can see that conversion for Group A is more stable and much higher than Group B. Conversion for Group B show decreasing and stable on average 0.56 while conversion for Group A are decreasing than start increasing back until the end of the test. On average, conversion for Group A are higher compared to Group B around 10% difference. "
   ]
  },
  {
   "cell_type": "markdown",
   "id": "67163c98",
   "metadata": {},
   "source": [
    "## Conversion in Product Cart"
   ]
  },
  {
   "cell_type": "code",
   "execution_count": 44,
   "id": "0c7d2b4c",
   "metadata": {
    "ExecuteTime": {
     "end_time": "2023-06-04T17:11:59.839364Z",
     "start_time": "2023-06-04T17:11:59.808357Z"
    }
   },
   "outputs": [
    {
     "data": {
      "text/html": [
       "<div>\n",
       "<style scoped>\n",
       "    .dataframe tbody tr th:only-of-type {\n",
       "        vertical-align: middle;\n",
       "    }\n",
       "\n",
       "    .dataframe tbody tr th {\n",
       "        vertical-align: top;\n",
       "    }\n",
       "\n",
       "    .dataframe thead th {\n",
       "        text-align: right;\n",
       "    }\n",
       "</style>\n",
       "<table border=\"1\" class=\"dataframe\">\n",
       "  <thead>\n",
       "    <tr style=\"text-align: right;\">\n",
       "      <th></th>\n",
       "      <th>A</th>\n",
       "      <th>B</th>\n",
       "      <th>date</th>\n",
       "      <th>test_day</th>\n",
       "      <th>Conversion_A</th>\n",
       "      <th>Conversion_B</th>\n",
       "    </tr>\n",
       "  </thead>\n",
       "  <tbody>\n",
       "    <tr>\n",
       "      <th>0</th>\n",
       "      <td>NaN</td>\n",
       "      <td>NaN</td>\n",
       "      <td>2020-12-07</td>\n",
       "      <td>0.0</td>\n",
       "      <td>NaN</td>\n",
       "      <td>NaN</td>\n",
       "    </tr>\n",
       "    <tr>\n",
       "      <th>1</th>\n",
       "      <td>25</td>\n",
       "      <td>36</td>\n",
       "      <td>2020-12-08</td>\n",
       "      <td>1.0</td>\n",
       "      <td>0.229358</td>\n",
       "      <td>0.290323</td>\n",
       "    </tr>\n",
       "    <tr>\n",
       "      <th>2</th>\n",
       "      <td>46</td>\n",
       "      <td>47</td>\n",
       "      <td>2020-12-09</td>\n",
       "      <td>2.0</td>\n",
       "      <td>0.247312</td>\n",
       "      <td>0.290123</td>\n",
       "    </tr>\n",
       "    <tr>\n",
       "      <th>3</th>\n",
       "      <td>61</td>\n",
       "      <td>64</td>\n",
       "      <td>2020-12-10</td>\n",
       "      <td>3.0</td>\n",
       "      <td>0.24898</td>\n",
       "      <td>0.286996</td>\n",
       "    </tr>\n",
       "    <tr>\n",
       "      <th>4</th>\n",
       "      <td>74</td>\n",
       "      <td>69</td>\n",
       "      <td>2020-12-11</td>\n",
       "      <td>4.0</td>\n",
       "      <td>0.249158</td>\n",
       "      <td>0.272727</td>\n",
       "    </tr>\n",
       "    <tr>\n",
       "      <th>5</th>\n",
       "      <td>97</td>\n",
       "      <td>72</td>\n",
       "      <td>2020-12-12</td>\n",
       "      <td>5.0</td>\n",
       "      <td>0.260753</td>\n",
       "      <td>0.268657</td>\n",
       "    </tr>\n",
       "    <tr>\n",
       "      <th>6</th>\n",
       "      <td>107</td>\n",
       "      <td>77</td>\n",
       "      <td>2020-12-13</td>\n",
       "      <td>6.0</td>\n",
       "      <td>0.254762</td>\n",
       "      <td>0.249191</td>\n",
       "    </tr>\n",
       "    <tr>\n",
       "      <th>7</th>\n",
       "      <td>116</td>\n",
       "      <td>80</td>\n",
       "      <td>2020-12-14</td>\n",
       "      <td>7.0</td>\n",
       "      <td>0.25</td>\n",
       "      <td>0.247678</td>\n",
       "    </tr>\n",
       "    <tr>\n",
       "      <th>8</th>\n",
       "      <td>211</td>\n",
       "      <td>98</td>\n",
       "      <td>2020-12-15</td>\n",
       "      <td>8.0</td>\n",
       "      <td>0.279101</td>\n",
       "      <td>0.256545</td>\n",
       "    </tr>\n",
       "    <tr>\n",
       "      <th>9</th>\n",
       "      <td>273</td>\n",
       "      <td>103</td>\n",
       "      <td>2020-12-16</td>\n",
       "      <td>9.0</td>\n",
       "      <td>0.300992</td>\n",
       "      <td>0.253695</td>\n",
       "    </tr>\n",
       "    <tr>\n",
       "      <th>10</th>\n",
       "      <td>315</td>\n",
       "      <td>133</td>\n",
       "      <td>2020-12-17</td>\n",
       "      <td>10.0</td>\n",
       "      <td>0.302594</td>\n",
       "      <td>0.276507</td>\n",
       "    </tr>\n",
       "    <tr>\n",
       "      <th>11</th>\n",
       "      <td>371</td>\n",
       "      <td>147</td>\n",
       "      <td>2020-12-18</td>\n",
       "      <td>11.0</td>\n",
       "      <td>0.309942</td>\n",
       "      <td>0.288235</td>\n",
       "    </tr>\n",
       "    <tr>\n",
       "      <th>12</th>\n",
       "      <td>430</td>\n",
       "      <td>161</td>\n",
       "      <td>2020-12-19</td>\n",
       "      <td>12.0</td>\n",
       "      <td>0.316409</td>\n",
       "      <td>0.291139</td>\n",
       "    </tr>\n",
       "    <tr>\n",
       "      <th>13</th>\n",
       "      <td>486</td>\n",
       "      <td>171</td>\n",
       "      <td>2020-12-20</td>\n",
       "      <td>13.0</td>\n",
       "      <td>0.312741</td>\n",
       "      <td>0.291312</td>\n",
       "    </tr>\n",
       "    <tr>\n",
       "      <th>14</th>\n",
       "      <td>548</td>\n",
       "      <td>179</td>\n",
       "      <td>2020-12-21</td>\n",
       "      <td>14.0</td>\n",
       "      <td>0.308732</td>\n",
       "      <td>0.28278</td>\n",
       "    </tr>\n",
       "  </tbody>\n",
       "</table>\n",
       "</div>"
      ],
      "text/plain": [
       "      A    B       date  test_day Conversion_A Conversion_B\n",
       "0   NaN  NaN 2020-12-07       0.0          NaN          NaN\n",
       "1    25   36 2020-12-08       1.0     0.229358     0.290323\n",
       "2    46   47 2020-12-09       2.0     0.247312     0.290123\n",
       "3    61   64 2020-12-10       3.0      0.24898     0.286996\n",
       "4    74   69 2020-12-11       4.0     0.249158     0.272727\n",
       "5    97   72 2020-12-12       5.0     0.260753     0.268657\n",
       "6   107   77 2020-12-13       6.0     0.254762     0.249191\n",
       "7   116   80 2020-12-14       7.0         0.25     0.247678\n",
       "8   211   98 2020-12-15       8.0     0.279101     0.256545\n",
       "9   273  103 2020-12-16       9.0     0.300992     0.253695\n",
       "10  315  133 2020-12-17      10.0     0.302594     0.276507\n",
       "11  371  147 2020-12-18      11.0     0.309942     0.288235\n",
       "12  430  161 2020-12-19      12.0     0.316409     0.291139\n",
       "13  486  171 2020-12-20      13.0     0.312741     0.291312\n",
       "14  548  179 2020-12-21      14.0     0.308732      0.28278"
      ]
     },
     "execution_count": 44,
     "metadata": {},
     "output_type": "execute_result"
    }
   ],
   "source": [
    "cumulative_product_cart['Conversion_A'] =cumulative_product_cart['A']/cumulative_login['A']\n",
    "cumulative_product_cart['Conversion_B'] =cumulative_product_cart['B']/cumulative_login['B']\n",
    "cumulative_product_cart"
   ]
  },
  {
   "cell_type": "code",
   "execution_count": 45,
   "id": "545cee55",
   "metadata": {
    "ExecuteTime": {
     "end_time": "2023-06-04T17:12:00.014402Z",
     "start_time": "2023-06-04T17:11:59.840363Z"
    }
   },
   "outputs": [
    {
     "data": {
      "image/png": "[encoded data removed]",
      "text/plain": [
       "<Figure size 504x288 with 1 Axes>"
      ]
     },
     "metadata": {
      "needs_background": "light"
     },
     "output_type": "display_data"
    }
   ],
   "source": [
    "# Create the line plot\n",
    "plt.figure(figsize=(7, 4))\n",
    "plt.plot(cumulative_product_cart['test_day'], cumulative_product_cart['A'], label='Cumulative A')\n",
    "plt.plot(cumulative_product_cart['test_day'], cumulative_product_cart['B'], label='Cumulative B')\n",
    "\n",
    "plt.xlabel('Test Days')\n",
    "plt.ylabel('Participants')\n",
    "plt.title('Number of Product Cart Events Participants per Day')\n",
    "plt.grid(True)\n",
    "plt.legend()\n",
    "plt.show()"
   ]
  },
  {
   "cell_type": "code",
   "execution_count": 46,
   "id": "7d6546c9",
   "metadata": {
    "ExecuteTime": {
     "end_time": "2023-06-04T17:12:00.188782Z",
     "start_time": "2023-06-04T17:12:00.015403Z"
    }
   },
   "outputs": [
    {
     "data": {
      "image/png": "[encoded data removed]",
      "text/plain": [
       "<Figure size 504x288 with 1 Axes>"
      ]
     },
     "metadata": {
      "needs_background": "light"
     },
     "output_type": "display_data"
    }
   ],
   "source": [
    "# Create the line plot\n",
    "plt.figure(figsize=(7, 4))\n",
    "plt.plot(cumulative_product_cart['test_day'], cumulative_product_cart['Conversion_A'], label='Conversion A')\n",
    "plt.plot(cumulative_product_cart['test_day'], cumulative_product_cart['Conversion_B'], label='Conversion B')\n",
    "\n",
    "plt.xlabel('Test Days')\n",
    "plt.ylabel('Conversion')\n",
    "plt.title('Conversion for Product Cart Events per Day')\n",
    "plt.grid(True)\n",
    "plt.legend()\n",
    "plt.show()"
   ]
  },
  {
   "cell_type": "markdown",
   "id": "353cb6fd",
   "metadata": {
    "ExecuteTime": {
     "end_time": "2023-06-04T01:18:56.613965Z",
     "start_time": "2023-06-04T01:18:56.613965Z"
    }
   },
   "source": [
    "**Observation**\n",
    "\n",
    "The first graph show the number of participant who visits product cart for the first time by date. We can see that the exponentially increased in Group A is a prove that it is more effective to attract participant to visit product cart compared with Group B. \n",
    "\n",
    "The second graph show the conversion of participant who visits the product cart from the login events. We can see that conversion for Group A is increasing while Group B are go down and up. It suggest that users are very likely to use product cart for the Group A while for the group B a very volatile. It can be assumed, Product Cart for the Group A are more user-friendly compared with group B."
   ]
  },
  {
   "cell_type": "markdown",
   "id": "29bc495a",
   "metadata": {},
   "source": [
    "## Conversion in Purchase"
   ]
  },
  {
   "cell_type": "code",
   "execution_count": 47,
   "id": "d1f4ad75",
   "metadata": {
    "ExecuteTime": {
     "end_time": "2023-06-04T17:12:00.237635Z",
     "start_time": "2023-06-04T17:12:00.213229Z"
    }
   },
   "outputs": [
    {
     "data": {
      "text/html": [
       "<div>\n",
       "<style scoped>\n",
       "    .dataframe tbody tr th:only-of-type {\n",
       "        vertical-align: middle;\n",
       "    }\n",
       "\n",
       "    .dataframe tbody tr th {\n",
       "        vertical-align: top;\n",
       "    }\n",
       "\n",
       "    .dataframe thead th {\n",
       "        text-align: right;\n",
       "    }\n",
       "</style>\n",
       "<table border=\"1\" class=\"dataframe\">\n",
       "  <thead>\n",
       "    <tr style=\"text-align: right;\">\n",
       "      <th></th>\n",
       "      <th>A</th>\n",
       "      <th>B</th>\n",
       "      <th>date</th>\n",
       "      <th>test_day</th>\n",
       "      <th>Conversion_A</th>\n",
       "      <th>Conversion_B</th>\n",
       "    </tr>\n",
       "  </thead>\n",
       "  <tbody>\n",
       "    <tr>\n",
       "      <th>0</th>\n",
       "      <td>NaN</td>\n",
       "      <td>NaN</td>\n",
       "      <td>2020-12-07</td>\n",
       "      <td>0.0</td>\n",
       "      <td>NaN</td>\n",
       "      <td>NaN</td>\n",
       "    </tr>\n",
       "    <tr>\n",
       "      <th>1</th>\n",
       "      <td>30</td>\n",
       "      <td>47</td>\n",
       "      <td>2020-12-08</td>\n",
       "      <td>1.0</td>\n",
       "      <td>0.275229</td>\n",
       "      <td>0.379032</td>\n",
       "    </tr>\n",
       "    <tr>\n",
       "      <th>2</th>\n",
       "      <td>52</td>\n",
       "      <td>54</td>\n",
       "      <td>2020-12-09</td>\n",
       "      <td>2.0</td>\n",
       "      <td>0.27957</td>\n",
       "      <td>0.333333</td>\n",
       "    </tr>\n",
       "    <tr>\n",
       "      <th>3</th>\n",
       "      <td>71</td>\n",
       "      <td>65</td>\n",
       "      <td>2020-12-10</td>\n",
       "      <td>3.0</td>\n",
       "      <td>0.289796</td>\n",
       "      <td>0.29148</td>\n",
       "    </tr>\n",
       "    <tr>\n",
       "      <th>4</th>\n",
       "      <td>90</td>\n",
       "      <td>72</td>\n",
       "      <td>2020-12-11</td>\n",
       "      <td>4.0</td>\n",
       "      <td>0.30303</td>\n",
       "      <td>0.284585</td>\n",
       "    </tr>\n",
       "    <tr>\n",
       "      <th>5</th>\n",
       "      <td>101</td>\n",
       "      <td>74</td>\n",
       "      <td>2020-12-12</td>\n",
       "      <td>5.0</td>\n",
       "      <td>0.271505</td>\n",
       "      <td>0.276119</td>\n",
       "    </tr>\n",
       "    <tr>\n",
       "      <th>6</th>\n",
       "      <td>111</td>\n",
       "      <td>84</td>\n",
       "      <td>2020-12-13</td>\n",
       "      <td>6.0</td>\n",
       "      <td>0.264286</td>\n",
       "      <td>0.271845</td>\n",
       "    </tr>\n",
       "    <tr>\n",
       "      <th>7</th>\n",
       "      <td>117</td>\n",
       "      <td>87</td>\n",
       "      <td>2020-12-14</td>\n",
       "      <td>7.0</td>\n",
       "      <td>0.252155</td>\n",
       "      <td>0.26935</td>\n",
       "    </tr>\n",
       "    <tr>\n",
       "      <th>8</th>\n",
       "      <td>203</td>\n",
       "      <td>102</td>\n",
       "      <td>2020-12-15</td>\n",
       "      <td>8.0</td>\n",
       "      <td>0.268519</td>\n",
       "      <td>0.267016</td>\n",
       "    </tr>\n",
       "    <tr>\n",
       "      <th>9</th>\n",
       "      <td>259</td>\n",
       "      <td>108</td>\n",
       "      <td>2020-12-16</td>\n",
       "      <td>9.0</td>\n",
       "      <td>0.285557</td>\n",
       "      <td>0.26601</td>\n",
       "    </tr>\n",
       "    <tr>\n",
       "      <th>10</th>\n",
       "      <td>310</td>\n",
       "      <td>129</td>\n",
       "      <td>2020-12-17</td>\n",
       "      <td>10.0</td>\n",
       "      <td>0.297791</td>\n",
       "      <td>0.268191</td>\n",
       "    </tr>\n",
       "    <tr>\n",
       "      <th>11</th>\n",
       "      <td>358</td>\n",
       "      <td>138</td>\n",
       "      <td>2020-12-18</td>\n",
       "      <td>11.0</td>\n",
       "      <td>0.299081</td>\n",
       "      <td>0.270588</td>\n",
       "    </tr>\n",
       "    <tr>\n",
       "      <th>12</th>\n",
       "      <td>407</td>\n",
       "      <td>149</td>\n",
       "      <td>2020-12-19</td>\n",
       "      <td>12.0</td>\n",
       "      <td>0.299485</td>\n",
       "      <td>0.269439</td>\n",
       "    </tr>\n",
       "    <tr>\n",
       "      <th>13</th>\n",
       "      <td>470</td>\n",
       "      <td>156</td>\n",
       "      <td>2020-12-20</td>\n",
       "      <td>13.0</td>\n",
       "      <td>0.302445</td>\n",
       "      <td>0.265758</td>\n",
       "    </tr>\n",
       "    <tr>\n",
       "      <th>14</th>\n",
       "      <td>551</td>\n",
       "      <td>173</td>\n",
       "      <td>2020-12-21</td>\n",
       "      <td>14.0</td>\n",
       "      <td>0.310423</td>\n",
       "      <td>0.273302</td>\n",
       "    </tr>\n",
       "  </tbody>\n",
       "</table>\n",
       "</div>"
      ],
      "text/plain": [
       "      A    B       date  test_day Conversion_A Conversion_B\n",
       "0   NaN  NaN 2020-12-07       0.0          NaN          NaN\n",
       "1    30   47 2020-12-08       1.0     0.275229     0.379032\n",
       "2    52   54 2020-12-09       2.0      0.27957     0.333333\n",
       "3    71   65 2020-12-10       3.0     0.289796      0.29148\n",
       "4    90   72 2020-12-11       4.0      0.30303     0.284585\n",
       "5   101   74 2020-12-12       5.0     0.271505     0.276119\n",
       "6   111   84 2020-12-13       6.0     0.264286     0.271845\n",
       "7   117   87 2020-12-14       7.0     0.252155      0.26935\n",
       "8   203  102 2020-12-15       8.0     0.268519     0.267016\n",
       "9   259  108 2020-12-16       9.0     0.285557      0.26601\n",
       "10  310  129 2020-12-17      10.0     0.297791     0.268191\n",
       "11  358  138 2020-12-18      11.0     0.299081     0.270588\n",
       "12  407  149 2020-12-19      12.0     0.299485     0.269439\n",
       "13  470  156 2020-12-20      13.0     0.302445     0.265758\n",
       "14  551  173 2020-12-21      14.0     0.310423     0.273302"
      ]
     },
     "execution_count": 47,
     "metadata": {},
     "output_type": "execute_result"
    }
   ],
   "source": [
    "cumulative_purchase['Conversion_A'] =cumulative_purchase['A']/cumulative_login['A']\n",
    "cumulative_purchase['Conversion_B'] =cumulative_purchase['B']/cumulative_login['B']\n",
    "cumulative_purchase"
   ]
  },
  {
   "cell_type": "code",
   "execution_count": 48,
   "id": "30b7b98a",
   "metadata": {
    "ExecuteTime": {
     "end_time": "2023-06-04T17:12:00.388920Z",
     "start_time": "2023-06-04T17:12:00.237635Z"
    }
   },
   "outputs": [
    {
     "data": {
      "image/png": "[encoded data removed]",
      "text/plain": [
       "<Figure size 504x288 with 1 Axes>"
      ]
     },
     "metadata": {
      "needs_background": "light"
     },
     "output_type": "display_data"
    }
   ],
   "source": [
    "# Create the line plot\n",
    "plt.figure(figsize=(7, 4))\n",
    "plt.plot(cumulative_purchase['test_day'], cumulative_purchase['A'], label='Cumulative A')\n",
    "plt.plot(cumulative_purchase['test_day'], cumulative_purchase['B'], label='Cumulative B')\n",
    "\n",
    "plt.xlabel('Test Days')\n",
    "plt.ylabel('Participants')\n",
    "plt.title('Number of Purchase Events Participants per Day')\n",
    "plt.grid(True)\n",
    "plt.legend()\n",
    "plt.show()"
   ]
  },
  {
   "cell_type": "code",
   "execution_count": 49,
   "id": "11b8c260",
   "metadata": {
    "ExecuteTime": {
     "end_time": "2023-06-04T17:12:00.548468Z",
     "start_time": "2023-06-04T17:12:00.388920Z"
    }
   },
   "outputs": [
    {
     "data": {
      "image/png": "[encoded data removed]",
      "text/plain": [
       "<Figure size 504x288 with 1 Axes>"
      ]
     },
     "metadata": {
      "needs_background": "light"
     },
     "output_type": "display_data"
    }
   ],
   "source": [
    "# Create the line plot\n",
    "plt.figure(figsize=(7, 4))\n",
    "plt.plot(cumulative_purchase['test_day'], cumulative_purchase['Conversion_A'], label='Conversion A')\n",
    "plt.plot(cumulative_purchase['test_day'], cumulative_purchase['Conversion_B'], label='Conversion B')\n",
    "\n",
    "plt.xlabel('Test Days')\n",
    "plt.ylabel('Conversion')\n",
    "plt.title('Conversion for Purchase Events per Day')\n",
    "plt.grid(True)\n",
    "plt.legend()\n",
    "plt.show()"
   ]
  },
  {
   "cell_type": "markdown",
   "id": "e0cf0bc1",
   "metadata": {},
   "source": [
    "**Observation**\n",
    "\n",
    "The first graph show the number of participant who makes purchases for the first time by date. We can see that the exponentially increased in Group A is a prove that it is more effective to attract participant to make purchases compared with the Group B. \n",
    "\n",
    "The second graph show the conversion of participant make purchases from the login events particiants. We can see that conversion for Group A is decreasing and the increasing on halfway test while Group B are decreasing and the stabilize on halfway test. It suggest that users in Group A have a higher potential to make more purchases while users in Group B are more stabilize around 28% from the total number participants to make purchases. Overall, Group A possible to get a higher conversion rate better than group B"
   ]
  },
  {
   "cell_type": "markdown",
   "id": "a85a95db",
   "metadata": {},
   "source": [
    "## Cumulative Revenue"
   ]
  },
  {
   "cell_type": "code",
   "execution_count": 50,
   "id": "be6ae233",
   "metadata": {
    "ExecuteTime": {
     "end_time": "2023-06-04T17:12:00.574326Z",
     "start_time": "2023-06-04T17:12:00.549470Z"
    }
   },
   "outputs": [
    {
     "data": {
      "text/html": [
       "<div>\n",
       "<style scoped>\n",
       "    .dataframe tbody tr th:only-of-type {\n",
       "        vertical-align: middle;\n",
       "    }\n",
       "\n",
       "    .dataframe tbody tr th {\n",
       "        vertical-align: top;\n",
       "    }\n",
       "\n",
       "    .dataframe thead th {\n",
       "        text-align: right;\n",
       "    }\n",
       "</style>\n",
       "<table border=\"1\" class=\"dataframe\">\n",
       "  <thead>\n",
       "    <tr style=\"text-align: right;\">\n",
       "      <th></th>\n",
       "      <th>Date</th>\n",
       "      <th>A</th>\n",
       "      <th>B</th>\n",
       "      <th>Cum_revenueA</th>\n",
       "      <th>Cum_revenueB</th>\n",
       "    </tr>\n",
       "  </thead>\n",
       "  <tbody>\n",
       "    <tr>\n",
       "      <th>0</th>\n",
       "      <td>2020-12-07</td>\n",
       "      <td>744.70</td>\n",
       "      <td>639.53</td>\n",
       "      <td>744.70</td>\n",
       "      <td>639.53</td>\n",
       "    </tr>\n",
       "    <tr>\n",
       "      <th>1</th>\n",
       "      <td>2020-12-08</td>\n",
       "      <td>734.70</td>\n",
       "      <td>344.74</td>\n",
       "      <td>1479.40</td>\n",
       "      <td>984.27</td>\n",
       "    </tr>\n",
       "    <tr>\n",
       "      <th>2</th>\n",
       "      <td>2020-12-09</td>\n",
       "      <td>1324.57</td>\n",
       "      <td>354.72</td>\n",
       "      <td>2803.97</td>\n",
       "      <td>1338.99</td>\n",
       "    </tr>\n",
       "    <tr>\n",
       "      <th>3</th>\n",
       "      <td>2020-12-10</td>\n",
       "      <td>1189.62</td>\n",
       "      <td>609.80</td>\n",
       "      <td>3993.59</td>\n",
       "      <td>1948.79</td>\n",
       "    </tr>\n",
       "    <tr>\n",
       "      <th>4</th>\n",
       "      <td>2020-12-11</td>\n",
       "      <td>959.67</td>\n",
       "      <td>69.89</td>\n",
       "      <td>4953.26</td>\n",
       "      <td>2018.68</td>\n",
       "    </tr>\n",
       "    <tr>\n",
       "      <th>5</th>\n",
       "      <td>2020-12-12</td>\n",
       "      <td>729.71</td>\n",
       "      <td>309.78</td>\n",
       "      <td>5682.97</td>\n",
       "      <td>2328.46</td>\n",
       "    </tr>\n",
       "    <tr>\n",
       "      <th>6</th>\n",
       "      <td>2020-12-13</td>\n",
       "      <td>254.75</td>\n",
       "      <td>279.83</td>\n",
       "      <td>5937.72</td>\n",
       "      <td>2608.29</td>\n",
       "    </tr>\n",
       "    <tr>\n",
       "      <th>7</th>\n",
       "      <td>2020-12-14</td>\n",
       "      <td>2813.96</td>\n",
       "      <td>249.72</td>\n",
       "      <td>8751.68</td>\n",
       "      <td>2858.01</td>\n",
       "    </tr>\n",
       "    <tr>\n",
       "      <th>8</th>\n",
       "      <td>2020-12-15</td>\n",
       "      <td>2368.91</td>\n",
       "      <td>1209.80</td>\n",
       "      <td>11120.59</td>\n",
       "      <td>4067.81</td>\n",
       "    </tr>\n",
       "    <tr>\n",
       "      <th>9</th>\n",
       "      <td>2020-12-16</td>\n",
       "      <td>2508.87</td>\n",
       "      <td>1364.64</td>\n",
       "      <td>13629.46</td>\n",
       "      <td>5432.45</td>\n",
       "    </tr>\n",
       "    <tr>\n",
       "      <th>10</th>\n",
       "      <td>2020-12-17</td>\n",
       "      <td>2038.80</td>\n",
       "      <td>324.78</td>\n",
       "      <td>15668.26</td>\n",
       "      <td>5757.23</td>\n",
       "    </tr>\n",
       "    <tr>\n",
       "      <th>11</th>\n",
       "      <td>2020-12-18</td>\n",
       "      <td>2128.80</td>\n",
       "      <td>234.76</td>\n",
       "      <td>17797.06</td>\n",
       "      <td>5991.99</td>\n",
       "    </tr>\n",
       "    <tr>\n",
       "      <th>12</th>\n",
       "      <td>2020-12-19</td>\n",
       "      <td>3533.39</td>\n",
       "      <td>149.77</td>\n",
       "      <td>21330.45</td>\n",
       "      <td>6141.76</td>\n",
       "    </tr>\n",
       "    <tr>\n",
       "      <th>13</th>\n",
       "      <td>2020-12-20</td>\n",
       "      <td>3793.29</td>\n",
       "      <td>769.70</td>\n",
       "      <td>25123.74</td>\n",
       "      <td>6911.46</td>\n",
       "    </tr>\n",
       "    <tr>\n",
       "      <th>14</th>\n",
       "      <td>2020-12-21</td>\n",
       "      <td>6167.77</td>\n",
       "      <td>2209.51</td>\n",
       "      <td>31291.51</td>\n",
       "      <td>9120.97</td>\n",
       "    </tr>\n",
       "    <tr>\n",
       "      <th>15</th>\n",
       "      <td>2020-12-22</td>\n",
       "      <td>4263.64</td>\n",
       "      <td>224.77</td>\n",
       "      <td>35555.15</td>\n",
       "      <td>9345.74</td>\n",
       "    </tr>\n",
       "    <tr>\n",
       "      <th>16</th>\n",
       "      <td>2020-12-23</td>\n",
       "      <td>1329.06</td>\n",
       "      <td>199.82</td>\n",
       "      <td>36884.21</td>\n",
       "      <td>9545.56</td>\n",
       "    </tr>\n",
       "    <tr>\n",
       "      <th>17</th>\n",
       "      <td>2020-12-24</td>\n",
       "      <td>2704.08</td>\n",
       "      <td>64.89</td>\n",
       "      <td>39588.29</td>\n",
       "      <td>9610.45</td>\n",
       "    </tr>\n",
       "    <tr>\n",
       "      <th>18</th>\n",
       "      <td>2020-12-26</td>\n",
       "      <td>1049.35</td>\n",
       "      <td>19.96</td>\n",
       "      <td>40637.64</td>\n",
       "      <td>9630.41</td>\n",
       "    </tr>\n",
       "    <tr>\n",
       "      <th>19</th>\n",
       "      <td>2020-12-27</td>\n",
       "      <td>1099.42</td>\n",
       "      <td>1134.91</td>\n",
       "      <td>41737.06</td>\n",
       "      <td>10765.32</td>\n",
       "    </tr>\n",
       "    <tr>\n",
       "      <th>20</th>\n",
       "      <td>2020-12-28</td>\n",
       "      <td>529.59</td>\n",
       "      <td>24.97</td>\n",
       "      <td>42266.65</td>\n",
       "      <td>10790.29</td>\n",
       "    </tr>\n",
       "    <tr>\n",
       "      <th>21</th>\n",
       "      <td>2020-12-29</td>\n",
       "      <td>264.68</td>\n",
       "      <td>24.95</td>\n",
       "      <td>42531.33</td>\n",
       "      <td>10815.24</td>\n",
       "    </tr>\n",
       "  </tbody>\n",
       "</table>\n",
       "</div>"
      ],
      "text/plain": [
       "         Date        A        B  Cum_revenueA  Cum_revenueB\n",
       "0  2020-12-07   744.70   639.53        744.70        639.53\n",
       "1  2020-12-08   734.70   344.74       1479.40        984.27\n",
       "2  2020-12-09  1324.57   354.72       2803.97       1338.99\n",
       "3  2020-12-10  1189.62   609.80       3993.59       1948.79\n",
       "4  2020-12-11   959.67    69.89       4953.26       2018.68\n",
       "5  2020-12-12   729.71   309.78       5682.97       2328.46\n",
       "6  2020-12-13   254.75   279.83       5937.72       2608.29\n",
       "7  2020-12-14  2813.96   249.72       8751.68       2858.01\n",
       "8  2020-12-15  2368.91  1209.80      11120.59       4067.81\n",
       "9  2020-12-16  2508.87  1364.64      13629.46       5432.45\n",
       "10 2020-12-17  2038.80   324.78      15668.26       5757.23\n",
       "11 2020-12-18  2128.80   234.76      17797.06       5991.99\n",
       "12 2020-12-19  3533.39   149.77      21330.45       6141.76\n",
       "13 2020-12-20  3793.29   769.70      25123.74       6911.46\n",
       "14 2020-12-21  6167.77  2209.51      31291.51       9120.97\n",
       "15 2020-12-22  4263.64   224.77      35555.15       9345.74\n",
       "16 2020-12-23  1329.06   199.82      36884.21       9545.56\n",
       "17 2020-12-24  2704.08    64.89      39588.29       9610.45\n",
       "18 2020-12-26  1049.35    19.96      40637.64       9630.41\n",
       "19 2020-12-27  1099.42  1134.91      41737.06      10765.32\n",
       "20 2020-12-28   529.59    24.97      42266.65      10790.29\n",
       "21 2020-12-29   264.68    24.95      42531.33      10815.24"
      ]
     },
     "execution_count": 50,
     "metadata": {},
     "output_type": "execute_result"
    }
   ],
   "source": [
    "revenue = events_test.query('details > 0')\n",
    "revenue = pd.pivot_table(data=revenue, index='date', columns='group', values='details', aggfunc='sum')\n",
    "revenue = revenue.reset_index().fillna(0)\n",
    "revenue.columns = ['Date', 'A', 'B']\n",
    "\n",
    "revenue['Cum_revenueA'] = revenue['A'].cumsum()\n",
    "revenue['Cum_revenueB'] = revenue['B'].cumsum()\n",
    "revenue"
   ]
  },
  {
   "cell_type": "code",
   "execution_count": 51,
   "id": "bd32f118",
   "metadata": {
    "ExecuteTime": {
     "end_time": "2023-06-04T17:12:00.732975Z",
     "start_time": "2023-06-04T17:12:00.575776Z"
    }
   },
   "outputs": [
    {
     "data": {
      "image/png": "[encoded data removed]",
      "text/plain": [
       "<Figure size 504x288 with 1 Axes>"
      ]
     },
     "metadata": {
      "needs_background": "light"
     },
     "output_type": "display_data"
    }
   ],
   "source": [
    "# Create the line plot\n",
    "plt.figure(figsize=(7, 4))\n",
    "plt.plot(revenue['Date'], revenue['A'], label='Revenue A')\n",
    "plt.plot(revenue['Date'], revenue['B'], label='Revenue B')\n",
    "\n",
    "plt.xlabel('Date')\n",
    "plt.xticks(rotation = 45)\n",
    "plt.ylabel('Revenue')\n",
    "plt.title('Revenue per Day')\n",
    "plt.grid(True)\n",
    "plt.legend()\n",
    "plt.show()"
   ]
  },
  {
   "cell_type": "code",
   "execution_count": 52,
   "id": "91012767",
   "metadata": {
    "ExecuteTime": {
     "end_time": "2023-06-04T17:12:00.887065Z",
     "start_time": "2023-06-04T17:12:00.732975Z"
    }
   },
   "outputs": [
    {
     "data": {
      "image/png": "[encoded data removed]",
      "text/plain": [
       "<Figure size 504x288 with 1 Axes>"
      ]
     },
     "metadata": {
      "needs_background": "light"
     },
     "output_type": "display_data"
    }
   ],
   "source": [
    "# Create the line plot\n",
    "plt.figure(figsize=(7, 4))\n",
    "plt.plot(revenue['Date'], revenue['Cum_revenueA'], label='Cumulative Revenue A')\n",
    "plt.plot(revenue['Date'], revenue['Cum_revenueB'], label='Cumulative Revenue B')\n",
    "\n",
    "plt.xlabel('Date')\n",
    "plt.xticks(rotation = 45)\n",
    "plt.ylabel('Revenue')\n",
    "plt.title('Cumulative Revenue per Day')\n",
    "plt.grid(True)\n",
    "plt.legend()\n",
    "plt.show()"
   ]
  },
  {
   "cell_type": "markdown",
   "id": "c11e5c78",
   "metadata": {},
   "source": [
    "**Observation**\n",
    "\n",
    "The first graph show the revenue per day. We can see that Group A more profitable compared with group B with a high margin. \n",
    "\n",
    "The second graph show the cumulative revenue per day. We can see that Group A is more exponentially increased while Group B is more linear. It suggest that both gift profit in positive way but Group A can be expected give a higher cumulative revenue in a short time compared with Group B. The reasons maybe due to the higher number of participants. Therefore, we can related that revenue is depends on the number of participants. "
   ]
  },
  {
   "cell_type": "markdown",
   "id": "ff67c406",
   "metadata": {},
   "source": [
    "## Summary"
   ]
  },
  {
   "cell_type": "markdown",
   "id": "fcab6f3f",
   "metadata": {},
   "source": [
    "Overall, Group A is give a better performance in conversion rate compared with the Group B. Group A have a higher number of participants, give a better conversion rate for every funnel stages and can be expected to give better conversion rate in future.    "
   ]
  },
  {
   "cell_type": "markdown",
   "id": "3b2c425d",
   "metadata": {},
   "source": [
    "# Hypothesis testing"
   ]
  },
  {
   "cell_type": "code",
   "execution_count": 53,
   "id": "655a7c2c",
   "metadata": {
    "ExecuteTime": {
     "end_time": "2023-06-04T17:12:00.913476Z",
     "start_time": "2023-06-04T17:12:00.888064Z"
    }
   },
   "outputs": [
    {
     "data": {
      "text/html": [
       "<div>\n",
       "<style scoped>\n",
       "    .dataframe tbody tr th:only-of-type {\n",
       "        vertical-align: middle;\n",
       "    }\n",
       "\n",
       "    .dataframe tbody tr th {\n",
       "        vertical-align: top;\n",
       "    }\n",
       "\n",
       "    .dataframe thead th {\n",
       "        text-align: right;\n",
       "    }\n",
       "</style>\n",
       "<table border=\"1\" class=\"dataframe\">\n",
       "  <thead>\n",
       "    <tr style=\"text-align: right;\">\n",
       "      <th></th>\n",
       "      <th>event_name</th>\n",
       "      <th>group</th>\n",
       "      <th>n_users</th>\n",
       "    </tr>\n",
       "  </thead>\n",
       "  <tbody>\n",
       "    <tr>\n",
       "      <th>0</th>\n",
       "      <td>login</td>\n",
       "      <td>A</td>\n",
       "      <td>2082</td>\n",
       "    </tr>\n",
       "    <tr>\n",
       "      <th>1</th>\n",
       "      <td>login</td>\n",
       "      <td>B</td>\n",
       "      <td>705</td>\n",
       "    </tr>\n",
       "    <tr>\n",
       "      <th>2</th>\n",
       "      <td>product_page</td>\n",
       "      <td>A</td>\n",
       "      <td>1360</td>\n",
       "    </tr>\n",
       "    <tr>\n",
       "      <th>3</th>\n",
       "      <td>product_page</td>\n",
       "      <td>B</td>\n",
       "      <td>397</td>\n",
       "    </tr>\n",
       "    <tr>\n",
       "      <th>4</th>\n",
       "      <td>product_cart</td>\n",
       "      <td>A</td>\n",
       "      <td>631</td>\n",
       "    </tr>\n",
       "    <tr>\n",
       "      <th>5</th>\n",
       "      <td>product_cart</td>\n",
       "      <td>B</td>\n",
       "      <td>195</td>\n",
       "    </tr>\n",
       "    <tr>\n",
       "      <th>6</th>\n",
       "      <td>purchase</td>\n",
       "      <td>A</td>\n",
       "      <td>652</td>\n",
       "    </tr>\n",
       "    <tr>\n",
       "      <th>7</th>\n",
       "      <td>purchase</td>\n",
       "      <td>B</td>\n",
       "      <td>198</td>\n",
       "    </tr>\n",
       "  </tbody>\n",
       "</table>\n",
       "</div>"
      ],
      "text/plain": [
       "     event_name group  n_users\n",
       "0         login     A     2082\n",
       "1         login     B      705\n",
       "2  product_page     A     1360\n",
       "3  product_page     B      397\n",
       "4  product_cart     A      631\n",
       "5  product_cart     B      195\n",
       "6      purchase     A      652\n",
       "7      purchase     B      198"
      ]
     },
     "execution_count": 53,
     "metadata": {},
     "output_type": "execute_result"
    }
   ],
   "source": [
    "funnel =(events_test.groupby(['event_name','group']).agg({'user_id':'nunique'})).reset_index().sort_values('group',ascending =True)\n",
    "funnel.columns = ['event_name','group','n_users']\n",
    "\n",
    "event_sequence = [\"login\", \"product_page\", \"product_cart\", \"purchase\"]\n",
    "funnel['event_order'] = pd.Categorical(funnel['event_name'], categories=event_sequence, ordered=True)\n",
    "funnel = funnel.sort_values('event_order').reset_index()\n",
    "funnel = funnel.drop('event_order', axis=1).drop('index', axis=1)\n",
    "funnel"
   ]
  },
  {
   "cell_type": "code",
   "execution_count": 54,
   "id": "585bde8d",
   "metadata": {
    "ExecuteTime": {
     "end_time": "2023-06-04T17:12:00.935268Z",
     "start_time": "2023-06-04T17:12:00.913476Z"
    }
   },
   "outputs": [
    {
     "data": {
      "text/html": [
       "<div>\n",
       "<style scoped>\n",
       "    .dataframe tbody tr th:only-of-type {\n",
       "        vertical-align: middle;\n",
       "    }\n",
       "\n",
       "    .dataframe tbody tr th {\n",
       "        vertical-align: top;\n",
       "    }\n",
       "\n",
       "    .dataframe thead th {\n",
       "        text-align: right;\n",
       "    }\n",
       "</style>\n",
       "<table border=\"1\" class=\"dataframe\">\n",
       "  <thead>\n",
       "    <tr style=\"text-align: right;\">\n",
       "      <th></th>\n",
       "      <th>event_name</th>\n",
       "      <th>A</th>\n",
       "      <th>conversionA</th>\n",
       "      <th>B</th>\n",
       "      <th>conversionB</th>\n",
       "    </tr>\n",
       "  </thead>\n",
       "  <tbody>\n",
       "    <tr>\n",
       "      <th>0</th>\n",
       "      <td>login</td>\n",
       "      <td>2082</td>\n",
       "      <td>1.000000</td>\n",
       "      <td>705</td>\n",
       "      <td>1.000000</td>\n",
       "    </tr>\n",
       "    <tr>\n",
       "      <th>1</th>\n",
       "      <td>product_page</td>\n",
       "      <td>1360</td>\n",
       "      <td>0.653218</td>\n",
       "      <td>397</td>\n",
       "      <td>0.563121</td>\n",
       "    </tr>\n",
       "    <tr>\n",
       "      <th>2</th>\n",
       "      <td>product_cart</td>\n",
       "      <td>631</td>\n",
       "      <td>0.303074</td>\n",
       "      <td>195</td>\n",
       "      <td>0.276596</td>\n",
       "    </tr>\n",
       "    <tr>\n",
       "      <th>3</th>\n",
       "      <td>purchase</td>\n",
       "      <td>652</td>\n",
       "      <td>0.313160</td>\n",
       "      <td>198</td>\n",
       "      <td>0.280851</td>\n",
       "    </tr>\n",
       "  </tbody>\n",
       "</table>\n",
       "</div>"
      ],
      "text/plain": [
       "     event_name     A  conversionA    B  conversionB\n",
       "0         login  2082     1.000000  705     1.000000\n",
       "1  product_page  1360     0.653218  397     0.563121\n",
       "2  product_cart   631     0.303074  195     0.276596\n",
       "3      purchase   652     0.313160  198     0.280851"
      ]
     },
     "execution_count": 54,
     "metadata": {},
     "output_type": "execute_result"
    }
   ],
   "source": [
    "group_A = funnel.query('group == \"A\"')\n",
    "group_B = funnel.query('group == \"B\"')\n",
    "\n",
    "group_A['conversion'] = group_A['n_users'] /  group_A['n_users'][:1].tolist()\n",
    "group_B['conversion'] = group_B['n_users'] /  group_B['n_users'][:1].tolist()\n",
    "\n",
    "new_funnel = pd.DataFrame(columns=('event_name','A','conversionA','B','conversionB'))\n",
    "\n",
    "new_funnel['event_name'] = funnel['event_name'].unique()\n",
    "new_funnel['A'] = group_A['n_users'].values\n",
    "new_funnel['conversionA'] = group_A['conversion'].values\n",
    "new_funnel['B'] = group_B['n_users'].values\n",
    "new_funnel['conversionB'] = group_B['conversion'].values\n",
    "new_funnel"
   ]
  },
  {
   "cell_type": "markdown",
   "id": "9ec493ad",
   "metadata": {},
   "source": [
    "Hypothesis test:\n",
    "\n",
    "Users will show better conversion by 10% into:-\n",
    "\n",
    "1. product page views\n",
    "2. product card views\n",
    "3. purchases"
   ]
  },
  {
   "cell_type": "code",
   "execution_count": 55,
   "id": "01f58e00",
   "metadata": {
    "ExecuteTime": {
     "end_time": "2023-06-04T17:12:00.953687Z",
     "start_time": "2023-06-04T17:12:00.935268Z"
    }
   },
   "outputs": [
    {
     "name": "stdout",
     "output_type": "stream",
     "text": [
      "Stage: product_page\n",
      "Z-score: -0.10177672745656156\n",
      "P-value: 0.45946694925442655\n",
      "Hypothesis test result: Not statistically significant\n",
      "\n",
      "Stage: product_cart\n",
      "Z-score: -0.022217447148205925\n",
      "P-value: 0.49113725010697984\n",
      "Hypothesis test result: Not statistically significant\n",
      "\n",
      "Stage: purchase\n",
      "Z-score: -0.027248177108979216\n",
      "P-value: 0.48913089508899055\n",
      "Hypothesis test result: Not statistically significant\n",
      "\n"
     ]
    }
   ],
   "source": [
    "# Define the 10% increase threshold\n",
    "threshold = 1.1\n",
    "\n",
    "# Loop through each stage of the funnel\n",
    "for stage in ['product_page', 'product_cart', 'purchase']:\n",
    "    # Get the conversion rates for Group A and Group B\n",
    "    group_a_conversion_rate = new_funnel[new_funnel['event_name'] == stage]['conversionA'].values[0]\n",
    "    group_b_conversion_rate = new_funnel[new_funnel['event_name'] == stage]['conversionB'].values[0]\n",
    "    \n",
    "    # Perform the hypothesis test using the z-criterion\n",
    "    n_a = new_funnel[new_funnel['event_name'] == stage]['conversionA'].values[0]\n",
    "    n_b = new_funnel[new_funnel['event_name'] == stage]['conversionB'].values[0]\n",
    "    p_a = group_a_conversion_rate\n",
    "    p_b = group_b_conversion_rate\n",
    "    se_a = ((p_a * (1 - p_a)) / n_a) ** 0.5\n",
    "    se_b = ((p_b * (1 - p_b)) / n_b) ** 0.5\n",
    "    z = (p_b - p_a) / ((se_a ** 2) + (se_b ** 2)) ** 0.5\n",
    "    \n",
    "    # Calculate the p-value\n",
    "    p_value = 1 - norm.cdf(abs(z))\n",
    "    \n",
    "    # Compare z-score with the critical value at a given significance level (e.g., 0.05)\n",
    "    significance_level = 0.05\n",
    "    critical_value = norm.ppf(1 - (significance_level / 2))\n",
    "    \n",
    "    # Determine if there is a statistically significant difference between the proportions\n",
    "    if abs(z) > critical_value:\n",
    "        if group_b_conversion_rate > threshold * group_a_conversion_rate:\n",
    "            result = \"Statistically significant increase (greater than 10%)\"\n",
    "        else:\n",
    "            result = \"Statistically significant but not greater than 10%\"\n",
    "    else:\n",
    "        result = \"Not statistically significant\"\n",
    "    \n",
    "    # Print the result for the current stage\n",
    "    print(f\"Stage: {stage}\")\n",
    "    print(f\"Z-score: {z}\")\n",
    "    print(f\"P-value: {p_value}\")\n",
    "    print(f\"Hypothesis test result: {result}\")\n",
    "    print()"
   ]
  },
  {
   "cell_type": "markdown",
   "id": "451a74e3",
   "metadata": {},
   "source": [
    "**Observation**\n",
    "\n",
    "Based on the results of the hypothesis tests, we can observe that for each stage of the funnel (product_page, product_cart, and purchase), the z-scores are negative, indicating that the conversion rates of Group B are lower than those of Group A. However, the z-scores are very close to zero and the corresponding p-values are quite high, indicating that the differences between the groups are not statistically significant.\n",
    "\n",
    "The p-values in all three stages are approximately 0.48, which is much higher than the commonly used significance level of 0.05. This suggests that the observed differences in conversion rates between Group A and Group B are likely due to chance rather than a true effect. In other words, there is not enough evidence to conclude that there is a significant difference in conversion rates between the two groups.\n",
    "\n",
    "Therefore, based on these results, we cannot support the hypothesis that there is a 10% or greater increase in conversion rates for Group B compared to Group A at each stage of the funnel."
   ]
  },
  {
   "cell_type": "markdown",
   "id": "715a20ff",
   "metadata": {},
   "source": [
    "# Conclusion "
   ]
  },
  {
   "cell_type": "markdown",
   "id": "c5d133f7",
   "metadata": {},
   "source": [
    "In SDA:\n",
    "\n",
    "The test was performed incorrectly:\n",
    "\n",
    "- The test coincided with the other marketing events in the EU region\n",
    "- Test participants participated in another test which can change or disturb the behavioral participants\n",
    "- The test where included the other region where the data is not precise\n",
    "- The test participants were unevenly distributed between the test groups\n",
    "    \n",
    "Thus, the test are unvalid and hardly to make any business decision rely to the the test. However, the data still can be used to make overview what happen in the test and we can make general overview by using the data that already being collected. The user ID that intersect with other test will be removed to prevent any outside influence from other test. \n",
    "\n",
    "In EDA:\n",
    "\n",
    "Group A is give a better performance in conversion rate compared with the Group B for every funnel stages. Group A have a higher number of participants, give a better conversion rate for every funnel stages and can be expected to give better conversion rate in future. This result shown that the new recommender system should be viewed with suspicion where the test group were lower than the control group. \n",
    "\n",
    "In Hypothesis Test:\n",
    "\n",
    "Test results show we cannot support the hypothesis that there is a 10% or greater increase in conversion rates for Group B compared to Group A at each stage of the funnel. Therefore, we can prove that the result in EDA is correct and be proven where the control group (Group A) is better than the test group(GroupB).\n",
    "\n",
    "Therefore, it is recommended to run another test to get a better data and correct results or stop the test and decide where the control group is better than the test group. However, The first opinion is much better decision to be make where we can analyse with the valid test and result to make any business decision."
   ]
  }
 ],
 "metadata": {
  "kernelspec": {
   "display_name": "Python 3 (ipykernel)",
   "language": "python",
   "name": "python3"
  },
  "language_info": {
   "codemirror_mode": {
    "name": "ipython",
    "version": 3
   },
   "file_extension": ".py",
   "mimetype": "text/x-python",
   "name": "python",
   "nbconvert_exporter": "python",
   "pygments_lexer": "ipython3",
   "version": "3.10.9"
  },
  "nbTranslate": {
   "displayLangs": [
    "*"
   ],
   "hotkey": "alt-t",
   "langInMainMenu": true,
   "sourceLang": "en",
   "targetLang": "fr",
   "useGoogleTranslate": true
  },
  "toc": {
   "base_numbering": 1,
   "nav_menu": {},
   "number_sections": true,
   "sideBar": true,
   "skip_h1_title": false,
   "title_cell": "Table of Contents",
   "title_sidebar": "Contents",
   "toc_cell": false,
   "toc_position": {
    "height": "calc(100% - 180px)",
    "left": "10px",
    "top": "150px",
    "width": "202.5px"
   },
   "toc_section_display": true,
   "toc_window_display": true
  }
 },
 "nbformat": 4,
 "nbformat_minor": 5
}
